{
  "nbformat": 4,
  "nbformat_minor": 0,
  "metadata": {
    "colab": {
      "name": "Capstone Project - Deepti Kulkarni.ipynb",
      "provenance": [],
      "collapsed_sections": [
        "SMqBKL2gZbJC",
        "YrEajKbRNMk-",
        "mm2VjS2_P9cW",
        "BmRJYZbYx-BQ",
        "oPKXhbNE4OHq",
        "7DnF0BIRU6nD",
        "1AWfB7nG0H2e",
        "WQG5eY94h11d",
        "Fbce5RzanIS4",
        "KM4kSKcOt0it"
      ]
    },
    "kernelspec": {
      "name": "python3",
      "display_name": "Python 3"
    }
  },
  "cells": [
    {
      "cell_type": "markdown",
      "metadata": {
        "id": "3tvmbW7jq8rJ",
        "colab_type": "text"
      },
      "source": [
        "## **Developing Prediction Model of Amazon employee access using Machine & Deep Learning**\n",
        "Deepti Kulkarni - Capstone project (Spring 2020 – BAN 693T)\n",
        "\n"
      ]
    },
    {
      "cell_type": "markdown",
      "metadata": {
        "id": "SMqBKL2gZbJC",
        "colab_type": "text"
      },
      "source": [
        "## **Project Objective** \n",
        "\n",
        "Dataset: Kaggle amazon employee access challenge dataset\n",
        "\n",
        "The objective of this competition is to build a model, learned using historical data, that will determine an employee's access needs, such that manual access transactions (grants and revokes) are minimized as the employee's attributes change over time. The model will take an employee's role information and a resource code and will return whether or not access should be granted.\n",
        "\n",
        "The data consists of real historical data collected from 2010 & 2011.  Employees are manually allowed or denied access to resources over time. You must create an algorithm capable of learning from this historical data to predict approval/denial for an unseen set of employees. \n",
        "\n",
        "File Descriptions\n",
        "train.csv - The training set. Each row has the ACTION (ground truth), RESOURCE, and information about the employee's role at the time of approval\n",
        "\n",
        "test.csv - The test set for which predictions should be made.  Each row asks whether an employee having the listed characteristics should have access to the listed resource.\n",
        "\n"
      ]
    },
    {
      "cell_type": "markdown",
      "metadata": {
        "colab_type": "text",
        "id": "l47BBNV2MQpi"
      },
      "source": [
        "### **Project Code Index**\n",
        "\n",
        "1. Data collection - Import and Read Data\n",
        "2. Data Pre-processing\n",
        "  \n",
        "   a. Data Transformation\n",
        "   \n",
        "   b. Data Splitting\n",
        "\n",
        "4. Models\n",
        "\n",
        "   a. Model 1 - Logistic Regression Model \n",
        "\n",
        "   b. Model 2 - Stochastic Gradient Descent (SGD)\n",
        "\n",
        "   c. Model 3 - Support Vector Machines (SVM)\n",
        "\n",
        "   d. Model 4 - Dense Neural Network Model (DNN)\n",
        "\n",
        "   e. Model 4 - Dense Neural Network L1 Model (DNN- L1)\n",
        "5. Model comparision and Conclusion"
      ]
    },
    {
      "cell_type": "markdown",
      "metadata": {
        "id": "YrEajKbRNMk-",
        "colab_type": "text"
      },
      "source": [
        "## **1. Data collection- Import and Read Data**"
      ]
    },
    {
      "cell_type": "code",
      "metadata": {
        "id": "susS1Gi0NRGg",
        "colab_type": "code",
        "outputId": "c2c45758-5a1f-4c70-d76b-6bc5ae636bc3",
        "colab": {
          "base_uri": "https://localhost:8080/"
        }
      },
      "source": [
        "#Importing all necessory librariies\n",
        "\n",
        "import tensorflow as tf\n",
        "from tensorflow import keras\n",
        "from IPython import display\n",
        "from matplotlib import cm\n",
        "from matplotlib import gridspec\n",
        "import numpy as np\n",
        "import pandas as pd\n",
        "import matplotlib.pyplot as plt\n",
        "import seaborn as sns\n",
        "from sklearn import metrics\n",
        "from tensorflow.python.data import Dataset\n",
        "from sklearn import preprocessing\n",
        "from sklearn.preprocessing import StandardScaler\n",
        "from sklearn.preprocessing import OneHotEncoder\n",
        "from sklearn.model_selection import train_test_split\n",
        "from sklearn.linear_model import LogisticRegression\n",
        "from sklearn.model_selection import cross_validate\n",
        "from sklearn.metrics import classification_report\n",
        "from sklearn.metrics import roc_auc_score\n",
        "from sklearn.metrics import roc_curve\n",
        "from sklearn.linear_model import SGDClassifier\n",
        "from sklearn import svm\n"
      ],
      "execution_count": 0,
      "outputs": [
        {
          "output_type": "stream",
          "text": [
            "/usr/local/lib/python3.6/dist-packages/statsmodels/tools/_testing.py:19: FutureWarning: pandas.util.testing is deprecated. Use the functions in the public API at pandas.testing instead.\n",
            "  import pandas.util.testing as tm\n"
          ],
          "name": "stderr"
        }
      ]
    },
    {
      "cell_type": "code",
      "metadata": {
        "id": "-LsK_x1UNfbi",
        "colab_type": "code",
        "outputId": "9d8c5b7e-3f97-48a2-9782-f36ccb6dfd66",
        "colab": {
          "base_uri": "https://localhost:8080/"
        }
      },
      "source": [
        "# Reading training dataset\n",
        "\n",
        "train_dataframe = pd.read_csv(\"/content/train.csv\", sep=\",\")\n",
        "train_dataframe = train_dataframe.reindex(np.random.permutation(train_dataframe.index))\n",
        "\n",
        "train_dataframe.head()"
      ],
      "execution_count": 0,
      "outputs": [
        {
          "output_type": "execute_result",
          "data": {
            "text/html": [
              "<div>\n",
              "<style scoped>\n",
              "    .dataframe tbody tr th:only-of-type {\n",
              "        vertical-align: middle;\n",
              "    }\n",
              "\n",
              "    .dataframe tbody tr th {\n",
              "        vertical-align: top;\n",
              "    }\n",
              "\n",
              "    .dataframe thead th {\n",
              "        text-align: right;\n",
              "    }\n",
              "</style>\n",
              "<table border=\"1\" class=\"dataframe\">\n",
              "  <thead>\n",
              "    <tr style=\"text-align: right;\">\n",
              "      <th></th>\n",
              "      <th>ACTION</th>\n",
              "      <th>RESOURCE</th>\n",
              "      <th>MGR_ID</th>\n",
              "      <th>ROLE_ROLLUP_1</th>\n",
              "      <th>ROLE_ROLLUP_2</th>\n",
              "      <th>ROLE_DEPTNAME</th>\n",
              "      <th>ROLE_TITLE</th>\n",
              "      <th>ROLE_FAMILY_DESC</th>\n",
              "      <th>ROLE_FAMILY</th>\n",
              "      <th>ROLE_CODE</th>\n",
              "    </tr>\n",
              "  </thead>\n",
              "  <tbody>\n",
              "    <tr>\n",
              "      <th>28764</th>\n",
              "      <td>1</td>\n",
              "      <td>81001</td>\n",
              "      <td>7424</td>\n",
              "      <td>5110</td>\n",
              "      <td>117954</td>\n",
              "      <td>122672</td>\n",
              "      <td>118777</td>\n",
              "      <td>306530</td>\n",
              "      <td>308574</td>\n",
              "      <td>118779</td>\n",
              "    </tr>\n",
              "    <tr>\n",
              "      <th>9720</th>\n",
              "      <td>1</td>\n",
              "      <td>31661</td>\n",
              "      <td>21023</td>\n",
              "      <td>117961</td>\n",
              "      <td>118052</td>\n",
              "      <td>118992</td>\n",
              "      <td>307024</td>\n",
              "      <td>311622</td>\n",
              "      <td>118331</td>\n",
              "      <td>118332</td>\n",
              "    </tr>\n",
              "    <tr>\n",
              "      <th>31462</th>\n",
              "      <td>1</td>\n",
              "      <td>42056</td>\n",
              "      <td>14952</td>\n",
              "      <td>117961</td>\n",
              "      <td>117962</td>\n",
              "      <td>119223</td>\n",
              "      <td>118278</td>\n",
              "      <td>118260</td>\n",
              "      <td>290919</td>\n",
              "      <td>118279</td>\n",
              "    </tr>\n",
              "    <tr>\n",
              "      <th>18826</th>\n",
              "      <td>1</td>\n",
              "      <td>15022</td>\n",
              "      <td>56199</td>\n",
              "      <td>117961</td>\n",
              "      <td>118052</td>\n",
              "      <td>118706</td>\n",
              "      <td>117905</td>\n",
              "      <td>117906</td>\n",
              "      <td>290919</td>\n",
              "      <td>117908</td>\n",
              "    </tr>\n",
              "    <tr>\n",
              "      <th>659</th>\n",
              "      <td>1</td>\n",
              "      <td>44814</td>\n",
              "      <td>1938</td>\n",
              "      <td>117961</td>\n",
              "      <td>118300</td>\n",
              "      <td>118066</td>\n",
              "      <td>120988</td>\n",
              "      <td>134839</td>\n",
              "      <td>118643</td>\n",
              "      <td>120989</td>\n",
              "    </tr>\n",
              "  </tbody>\n",
              "</table>\n",
              "</div>"
            ],
            "text/plain": [
              "       ACTION  RESOURCE  MGR_ID  ...  ROLE_FAMILY_DESC  ROLE_FAMILY  ROLE_CODE\n",
              "28764       1     81001    7424  ...            306530       308574     118779\n",
              "9720        1     31661   21023  ...            311622       118331     118332\n",
              "31462       1     42056   14952  ...            118260       290919     118279\n",
              "18826       1     15022   56199  ...            117906       290919     117908\n",
              "659         1     44814    1938  ...            134839       118643     120989\n",
              "\n",
              "[5 rows x 10 columns]"
            ]
          },
          "metadata": {
            "tags": []
          },
          "execution_count": 3
        }
      ]
    },
    {
      "cell_type": "code",
      "metadata": {
        "id": "sTIo0XQpNypM",
        "colab_type": "code",
        "outputId": "434ef473-a97e-4712-a7ac-91b8d3a26a79",
        "colab": {
          "base_uri": "https://localhost:8080/"
        }
      },
      "source": [
        "# Reading test dataset\n",
        "\n",
        "test_dataframe = pd.read_csv(\"/content/test.csv\", sep=\",\")\n",
        "test_dataframe = test_dataframe.reindex(np.random.permutation(test_dataframe.index))\n",
        "\n",
        "test_dataframe.head()"
      ],
      "execution_count": 0,
      "outputs": [
        {
          "output_type": "execute_result",
          "data": {
            "text/html": [
              "<div>\n",
              "<style scoped>\n",
              "    .dataframe tbody tr th:only-of-type {\n",
              "        vertical-align: middle;\n",
              "    }\n",
              "\n",
              "    .dataframe tbody tr th {\n",
              "        vertical-align: top;\n",
              "    }\n",
              "\n",
              "    .dataframe thead th {\n",
              "        text-align: right;\n",
              "    }\n",
              "</style>\n",
              "<table border=\"1\" class=\"dataframe\">\n",
              "  <thead>\n",
              "    <tr style=\"text-align: right;\">\n",
              "      <th></th>\n",
              "      <th>id</th>\n",
              "      <th>RESOURCE</th>\n",
              "      <th>MGR_ID</th>\n",
              "      <th>ROLE_ROLLUP_1</th>\n",
              "      <th>ROLE_ROLLUP_2</th>\n",
              "      <th>ROLE_DEPTNAME</th>\n",
              "      <th>ROLE_TITLE</th>\n",
              "      <th>ROLE_FAMILY_DESC</th>\n",
              "      <th>ROLE_FAMILY</th>\n",
              "      <th>ROLE_CODE</th>\n",
              "    </tr>\n",
              "  </thead>\n",
              "  <tbody>\n",
              "    <tr>\n",
              "      <th>12897</th>\n",
              "      <td>12898</td>\n",
              "      <td>18405</td>\n",
              "      <td>5396</td>\n",
              "      <td>117961</td>\n",
              "      <td>118343</td>\n",
              "      <td>120270</td>\n",
              "      <td>120773</td>\n",
              "      <td>118959</td>\n",
              "      <td>118960</td>\n",
              "      <td>120774</td>\n",
              "    </tr>\n",
              "    <tr>\n",
              "      <th>24407</th>\n",
              "      <td>24408</td>\n",
              "      <td>97529</td>\n",
              "      <td>782</td>\n",
              "      <td>117961</td>\n",
              "      <td>118413</td>\n",
              "      <td>127522</td>\n",
              "      <td>118321</td>\n",
              "      <td>117906</td>\n",
              "      <td>290919</td>\n",
              "      <td>118322</td>\n",
              "    </tr>\n",
              "    <tr>\n",
              "      <th>49218</th>\n",
              "      <td>49219</td>\n",
              "      <td>935</td>\n",
              "      <td>3869</td>\n",
              "      <td>117961</td>\n",
              "      <td>118225</td>\n",
              "      <td>120050</td>\n",
              "      <td>118321</td>\n",
              "      <td>117906</td>\n",
              "      <td>290919</td>\n",
              "      <td>118322</td>\n",
              "    </tr>\n",
              "    <tr>\n",
              "      <th>57192</th>\n",
              "      <td>57193</td>\n",
              "      <td>25993</td>\n",
              "      <td>4031</td>\n",
              "      <td>117961</td>\n",
              "      <td>118300</td>\n",
              "      <td>120026</td>\n",
              "      <td>118422</td>\n",
              "      <td>239205</td>\n",
              "      <td>118424</td>\n",
              "      <td>118425</td>\n",
              "    </tr>\n",
              "    <tr>\n",
              "      <th>7334</th>\n",
              "      <td>7335</td>\n",
              "      <td>34449</td>\n",
              "      <td>51235</td>\n",
              "      <td>120864</td>\n",
              "      <td>121013</td>\n",
              "      <td>124133</td>\n",
              "      <td>120344</td>\n",
              "      <td>303717</td>\n",
              "      <td>118424</td>\n",
              "      <td>120346</td>\n",
              "    </tr>\n",
              "  </tbody>\n",
              "</table>\n",
              "</div>"
            ],
            "text/plain": [
              "          id  RESOURCE  MGR_ID  ...  ROLE_FAMILY_DESC  ROLE_FAMILY  ROLE_CODE\n",
              "12897  12898     18405    5396  ...            118959       118960     120774\n",
              "24407  24408     97529     782  ...            117906       290919     118322\n",
              "49218  49219       935    3869  ...            117906       290919     118322\n",
              "57192  57193     25993    4031  ...            239205       118424     118425\n",
              "7334    7335     34449   51235  ...            303717       118424     120346\n",
              "\n",
              "[5 rows x 10 columns]"
            ]
          },
          "metadata": {
            "tags": []
          },
          "execution_count": 4
        }
      ]
    },
    {
      "cell_type": "code",
      "metadata": {
        "id": "U3jPOjOhQdlo",
        "colab_type": "code",
        "outputId": "c85dcbee-aafc-4376-c573-ea025e270228",
        "colab": {
          "base_uri": "https://localhost:8080/"
        }
      },
      "source": [
        "#Checking dataframe shapes for both datasets \n",
        "\n",
        "print(\"Training dataframe shape: \",train_dataframe.shape)\n",
        "print(\"Test dataframe shape: \",test_dataframe.shape)"
      ],
      "execution_count": 0,
      "outputs": [
        {
          "output_type": "stream",
          "text": [
            "Training dataframe shape:  (32769, 10)\n",
            "Test dataframe shape:  (58921, 10)\n"
          ],
          "name": "stdout"
        }
      ]
    },
    {
      "cell_type": "code",
      "metadata": {
        "id": "ozJrIiY1ZJKl",
        "colab_type": "code",
        "outputId": "747c152e-90e1-4c7e-c7a2-2aed74338f20",
        "colab": {
          "base_uri": "https://localhost:8080/"
        }
      },
      "source": [
        "# checking count of each categories for the target variable in the training dataframe \n",
        "\n",
        "print(train_dataframe['ACTION'].value_counts())\n",
        "sns.countplot(x='ACTION',data = train_dataframe, palette='hls')\n",
        "plt.title(\"Action class distribution\")\n",
        "plt.show() \n",
        "plt.savefig('count_plot_training')"
      ],
      "execution_count": 0,
      "outputs": [
        {
          "output_type": "stream",
          "text": [
            "1    30872\n",
            "0     1897\n",
            "Name: ACTION, dtype: int64\n"
          ],
          "name": "stdout"
        },
        {
          "output_type": "display_data",
          "data": {
            "image/png": "[encoded data removed]",
            "text/plain": [
              "<Figure size 432x288 with 1 Axes>"
            ]
          },
          "metadata": {
            "tags": [],
            "needs_background": "light"
          }
        },
        {
          "output_type": "display_data",
          "data": {
            "text/plain": [
              "<Figure size 432x288 with 0 Axes>"
            ]
          },
          "metadata": {
            "tags": []
          }
        }
      ]
    },
    {
      "cell_type": "markdown",
      "metadata": {
        "id": "mm2VjS2_P9cW",
        "colab_type": "text"
      },
      "source": [
        "## **2. Data Preprocessing**"
      ]
    },
    {
      "cell_type": "code",
      "metadata": {
        "id": "ssLohlt0QI_S",
        "colab_type": "code",
        "outputId": "57859487-0219-43eb-fc89-0607cac16ecf",
        "colab": {
          "base_uri": "https://localhost:8080/",
          "height": 208
        }
      },
      "source": [
        "#1. Handling Missing Data\n",
        "# Checking if there is any missing value in the dataset \n",
        "\n",
        "train_dataframe.isnull().sum()\n",
        "\n",
        "#2. Handling Outliers\n",
        "# As the dataset contains categoral and binary data, there is no need to check outliers as categiorical data means \n",
        "# It's just the composition of the sample which you have selected."
      ],
      "execution_count": 0,
      "outputs": [
        {
          "output_type": "execute_result",
          "data": {
            "text/plain": [
              "ACTION              0\n",
              "RESOURCE            0\n",
              "MGR_ID              0\n",
              "ROLE_ROLLUP_1       0\n",
              "ROLE_ROLLUP_2       0\n",
              "ROLE_DEPTNAME       0\n",
              "ROLE_TITLE          0\n",
              "ROLE_FAMILY_DESC    0\n",
              "ROLE_FAMILY         0\n",
              "ROLE_CODE           0\n",
              "dtype: int64"
            ]
          },
          "metadata": {
            "tags": []
          },
          "execution_count": 100
        }
      ]
    },
    {
      "cell_type": "code",
      "metadata": {
        "id": "Bq2hdUiGR5GC",
        "colab_type": "code",
        "outputId": "7d2b1bd8-463f-456d-df18-3e02202448ac",
        "colab": {
          "base_uri": "https://localhost:8080/",
          "height": 208
        }
      },
      "source": [
        "#3. Feature selection\n",
        "#As there are no missing values and outliers, let's proceed with finding unique categories for each column\n",
        "train_dataframe.apply(lambda x: len(x.unique()))"
      ],
      "execution_count": 0,
      "outputs": [
        {
          "output_type": "execute_result",
          "data": {
            "text/plain": [
              "ACTION                 2\n",
              "RESOURCE            7518\n",
              "MGR_ID              4243\n",
              "ROLE_ROLLUP_1        128\n",
              "ROLE_ROLLUP_2        177\n",
              "ROLE_DEPTNAME        449\n",
              "ROLE_TITLE           343\n",
              "ROLE_FAMILY_DESC    2358\n",
              "ROLE_FAMILY           67\n",
              "ROLE_CODE            343\n",
              "dtype: int64"
            ]
          },
          "metadata": {
            "tags": []
          },
          "execution_count": 101
        }
      ]
    },
    {
      "cell_type": "code",
      "metadata": {
        "id": "E0YOmbhLSfrh",
        "colab_type": "code",
        "outputId": "2576ce13-b06c-46fc-c1d5-8e17c0bf3296",
        "colab": {
          "base_uri": "https://localhost:8080/",
          "height": 606
        }
      },
      "source": [
        "# Checking distributions of all variables \n",
        "f, axes = plt.subplots(3, 3, figsize=(15, 10), sharex=True)\n",
        "sns.despine(left=True)\n",
        "\n",
        "# distribution of RESOURCE\n",
        "RESOURCE= sns.distplot(train_dataframe['RESOURCE'].values, ax = axes[0,0])\n",
        "RESOURCE.title.set_text(\"RESOURCE distribution\")\n",
        "\n",
        "# distribution of MGR_ID\n",
        "MGR_ID= sns.distplot(train_dataframe['MGR_ID'].values, ax = axes[0,1])\n",
        "MGR_ID.title.set_text(\"MGR_ID distribution\")\n",
        "\n",
        "# distribution of ROLE_ROLLUP_1\n",
        "ROLE_ROLLUP_1= sns.distplot(train_dataframe['ROLE_ROLLUP_1'].values, ax = axes[0,2])\n",
        "ROLE_ROLLUP_1.title.set_text(\"ROLE_ROLLUP_1 distribution\")\n",
        "\n",
        "# distribution of ROLE_ROLLUP_2\n",
        "ROLE_ROLLUP_2= sns.distplot(train_dataframe['ROLE_ROLLUP_2'].values, ax = axes[1,0])\n",
        "ROLE_ROLLUP_2.title.set_text(\"ROLE_ROLLUP_2 distribution\")\n",
        "\n",
        "# distribution of ROLE_DEPTNAME\n",
        "ROLE_DEPTNAME= sns.distplot(train_dataframe['ROLE_DEPTNAME'].values, ax = axes[1,1])\n",
        "ROLE_DEPTNAME.title.set_text(\"ROLE_DEPTNAME distribution\")\n",
        "\n",
        "# distribution of ROLE_TITLE\n",
        "ROLE_TITLE= sns.distplot(train_dataframe['ROLE_TITLE'].values, ax = axes[1,2])\n",
        "ROLE_TITLE.title.set_text(\"ROLE_TITLE distribution\")\n",
        "\n",
        "# distribution of ROLE_FAMILY_DESC\n",
        "ROLE_FAMILY_DESC= sns.distplot(train_dataframe['ROLE_FAMILY_DESC'].values, ax = axes[2,0])\n",
        "ROLE_FAMILY_DESC.title.set_text(\"ROLE_FAMILY_DESC distribution\")\n",
        "\n",
        "# distribution of ROLE_FAMILY\n",
        "ROLE_FAMILY= sns.distplot(train_dataframe['ROLE_FAMILY'].values, ax = axes[2,1])\n",
        "ROLE_FAMILY.title.set_text(\"ROLE_FAMILY distribution\")\n",
        "\n",
        "# distribution of ROLE_CODE\n",
        "ROLE_CODE= sns.distplot(train_dataframe['ROLE_CODE'].values, ax = axes[2,2])\n",
        "ROLE_CODE.title.set_text(\"ROLE_CODE distribution\")"
      ],
      "execution_count": 0,
      "outputs": [
        {
          "output_type": "display_data",
          "data": {
            "image/png": "[encoded data removed]",
            "text/plain": [
              "<Figure size 1080x720 with 9 Axes>"
            ]
          },
          "metadata": {
            "tags": [],
            "needs_background": "light"
          }
        }
      ]
    },
    {
      "cell_type": "code",
      "metadata": {
        "id": "GksA0x1UohqN",
        "colab_type": "code",
        "outputId": "8329a0ce-0329-411c-a139-1e4e4c4562c4",
        "colab": {
          "base_uri": "https://localhost:8080/",
          "height": 628
        }
      },
      "source": [
        "# heat map of correlation of features\n",
        "# They all have weak correlation with the target variable \n",
        "\n",
        "correlation_matrix = train_dataframe.corr()\n",
        "fig = plt.figure(figsize=(12,9))\n",
        "sns.heatmap(correlation_matrix,vmax=1,square = True, annot=True)\n",
        "plt.show()"
      ],
      "execution_count": 0,
      "outputs": [
        {
          "output_type": "display_data",
          "data": {
            "image/png": "[encoded data removed]",
            "text/plain": [
              "<Figure size 864x648 with 2 Axes>"
            ]
          },
          "metadata": {
            "tags": [],
            "needs_background": "light"
          }
        }
      ]
    },
    {
      "cell_type": "code",
      "metadata": {
        "id": "zSDFITsw3fkB",
        "colab_type": "code",
        "outputId": "0349fb9d-c390-4d91-af71-605ba759a5ba",
        "colab": {
          "base_uri": "https://localhost:8080/",
          "height": 69
        }
      },
      "source": [
        "# checking correlation between ROLE_TITLE, ROLE_CODE\n",
        "# They have weak correlation as well so we will not be dropping any variables.\n",
        "\n",
        "print(train_dataframe[[\"ROLE_TITLE\",\"ROLE_CODE\"]].corr())"
      ],
      "execution_count": 0,
      "outputs": [
        {
          "output_type": "stream",
          "text": [
            "            ROLE_TITLE  ROLE_CODE\n",
            "ROLE_TITLE     1.00000    0.15592\n",
            "ROLE_CODE      0.15592    1.00000\n"
          ],
          "name": "stdout"
        }
      ]
    },
    {
      "cell_type": "markdown",
      "metadata": {
        "id": "eyK0hyuj6PLz",
        "colab_type": "text"
      },
      "source": [
        "### **2.a. Data Transformation**"
      ]
    },
    {
      "cell_type": "code",
      "metadata": {
        "id": "vg5Wb2LgN4Ao",
        "colab_type": "code",
        "colab": {}
      },
      "source": [
        "#As seen in the last result, there are some categorical variables hence using One hot encoder to transform data for analysis\n",
        "\n",
        "one_hot_encoder = OneHotEncoder(sparse=True, dtype=np.float32, handle_unknown='ignore')\n",
        "\n",
        "# Using One hot encoding on training dataset \n",
        "X_train_columns = [x for x in train_dataframe.columns if x!=\"ACTION\"]\n",
        "X = one_hot_encoder.fit_transform(train_dataframe[X_train_columns])\n",
        "\n",
        "# Using One hot encoding on test dataset \n",
        "X_test_columns = [x for x in test_dataframe.columns if x!=\"id\"]\n",
        "X_test = one_hot_encoder.transform(test_dataframe[X_test_columns])\n",
        "\n",
        "#Splitting target variable in y for training dataset \n",
        "y = train_dataframe[\"ACTION\"].values"
      ],
      "execution_count": 0,
      "outputs": []
    },
    {
      "cell_type": "code",
      "metadata": {
        "id": "bKucv5Oc8dHJ",
        "colab_type": "code",
        "outputId": "70cad1f3-e424-492f-d0cf-0cec389b8f33",
        "colab": {
          "base_uri": "https://localhost:8080/",
          "height": 381
        }
      },
      "source": [
        "# Checking the data after one hot encoding\n",
        "print(\"Training data: \",X[4])\n",
        "print(\"\\n Training Target: \",y)\n",
        "\n",
        "print(\"\\n Test data: \",X_test[1])"
      ],
      "execution_count": 0,
      "outputs": [
        {
          "output_type": "stream",
          "text": [
            "Training data:    (0, 1556)\t1.0\n",
            "  (0, 11140)\t1.0\n",
            "  (0, 11782)\t1.0\n",
            "  (0, 11947)\t1.0\n",
            "  (0, 12283)\t1.0\n",
            "  (0, 12634)\t1.0\n",
            "  (0, 14126)\t1.0\n",
            "  (0, 15229)\t1.0\n",
            "  (0, 15411)\t1.0\n",
            "\n",
            " Training Target:  [1 1 1 ... 1 1 1]\n",
            "\n",
            " Test data:    (0, 881)\t1.0\n",
            "  (0, 10467)\t1.0\n",
            "  (0, 11814)\t1.0\n",
            "  (0, 11952)\t1.0\n",
            "  (0, 12153)\t1.0\n",
            "  (0, 12567)\t1.0\n",
            "  (0, 15205)\t1.0\n",
            "  (0, 15230)\t1.0\n",
            "  (0, 15339)\t1.0\n"
          ],
          "name": "stdout"
        }
      ]
    },
    {
      "cell_type": "markdown",
      "metadata": {
        "id": "HKweJJyZ6FXO",
        "colab_type": "text"
      },
      "source": [
        "### **2.b.Data Splitting**"
      ]
    },
    {
      "cell_type": "code",
      "metadata": {
        "id": "IA-LXM5-P3JW",
        "colab_type": "code",
        "colab": {}
      },
      "source": [
        "#Spittting Training dataset into training and validation datasets (validation dataset= 20%, Training dataset = 80%)\n",
        "X_train, X_val, y_train, y_val = train_test_split(X, y, test_size=0.2, random_state=1) "
      ],
      "execution_count": 0,
      "outputs": []
    },
    {
      "cell_type": "code",
      "metadata": {
        "id": "5dK09aZepRED",
        "colab_type": "code",
        "outputId": "d866ecd0-946f-40b0-9581-074b0b5b1bb3",
        "colab": {
          "base_uri": "https://localhost:8080/",
          "height": 69
        }
      },
      "source": [
        "#Checking dataframe shapes after splitting and one hot encoding (which are now sparse matrix, which will be easy for analysis) \n",
        "\n",
        "print(\"Training dataframe shape: \", X_train.shape)\n",
        "print(\"Validation dataframe shape: \",X_val.shape)\n",
        "print(\"Test dataframe shape: \",X_test.shape)"
      ],
      "execution_count": 0,
      "outputs": [
        {
          "output_type": "stream",
          "text": [
            "Training dataframe shape:  (26215, 15626)\n",
            "Validation dataframe shape:  (6554, 15626)\n",
            "Test dataframe shape:  (58921, 15626)\n"
          ],
          "name": "stdout"
        }
      ]
    },
    {
      "cell_type": "markdown",
      "metadata": {
        "id": "BmRJYZbYx-BQ",
        "colab_type": "text"
      },
      "source": [
        "## **3. Models** "
      ]
    },
    {
      "cell_type": "markdown",
      "metadata": {
        "id": "oPKXhbNE4OHq",
        "colab_type": "text"
      },
      "source": [
        "###**a. Model 1 - Logistic Regression Model**"
      ]
    },
    {
      "cell_type": "code",
      "metadata": {
        "id": "a2Y07uRc7ky4",
        "colab_type": "code",
        "colab": {}
      },
      "source": [
        "# Building Logistic regression model \n",
        "\n",
        "model_logisticRegression = LogisticRegression( random_state=623,\n",
        "                                               solver = 'saga',\n",
        "                                               max_iter = 10000,\n",
        "                                               warm_start = False,\n",
        "                                               verbose = 1, \n",
        "                                               tol = 1e-5)"
      ],
      "execution_count": 0,
      "outputs": []
    },
    {
      "cell_type": "code",
      "metadata": {
        "id": "7cYnkAqz7qln",
        "colab_type": "code",
        "outputId": "5ea611a2-0ece-4deb-f5f6-3e08fd32d78d",
        "colab": {
          "base_uri": "https://localhost:8080/"
        }
      },
      "source": [
        "# Cross validating the Logistic regression model to check the score and summary of the model\n",
        "statistics_cv = cross_validate(model_logisticRegression, X_train, y_train, groups=None, scoring='roc_auc', cv=5, n_jobs=2, return_train_score = True)\n",
        "\n",
        "# Describing the summary of the Logistic regression model \n",
        "statistics_cv = pd.DataFrame(statistics_cv)\n",
        "statistics_cv.describe()"
      ],
      "execution_count": 0,
      "outputs": [
        {
          "output_type": "execute_result",
          "data": {
            "text/html": [
              "<div>\n",
              "<style scoped>\n",
              "    .dataframe tbody tr th:only-of-type {\n",
              "        vertical-align: middle;\n",
              "    }\n",
              "\n",
              "    .dataframe tbody tr th {\n",
              "        vertical-align: top;\n",
              "    }\n",
              "\n",
              "    .dataframe thead th {\n",
              "        text-align: right;\n",
              "    }\n",
              "</style>\n",
              "<table border=\"1\" class=\"dataframe\">\n",
              "  <thead>\n",
              "    <tr style=\"text-align: right;\">\n",
              "      <th></th>\n",
              "      <th>fit_time</th>\n",
              "      <th>score_time</th>\n",
              "      <th>test_score</th>\n",
              "      <th>train_score</th>\n",
              "    </tr>\n",
              "  </thead>\n",
              "  <tbody>\n",
              "    <tr>\n",
              "      <th>count</th>\n",
              "      <td>5.000000</td>\n",
              "      <td>5.000000</td>\n",
              "      <td>5.000000</td>\n",
              "      <td>5.000000</td>\n",
              "    </tr>\n",
              "    <tr>\n",
              "      <th>mean</th>\n",
              "      <td>10.136170</td>\n",
              "      <td>0.003890</td>\n",
              "      <td>0.846585</td>\n",
              "      <td>0.977533</td>\n",
              "    </tr>\n",
              "    <tr>\n",
              "      <th>std</th>\n",
              "      <td>1.440848</td>\n",
              "      <td>0.000585</td>\n",
              "      <td>0.014719</td>\n",
              "      <td>0.000701</td>\n",
              "    </tr>\n",
              "    <tr>\n",
              "      <th>min</th>\n",
              "      <td>7.672920</td>\n",
              "      <td>0.002897</td>\n",
              "      <td>0.831398</td>\n",
              "      <td>0.976747</td>\n",
              "    </tr>\n",
              "    <tr>\n",
              "      <th>25%</th>\n",
              "      <td>10.476750</td>\n",
              "      <td>0.003977</td>\n",
              "      <td>0.836390</td>\n",
              "      <td>0.976908</td>\n",
              "    </tr>\n",
              "    <tr>\n",
              "      <th>50%</th>\n",
              "      <td>10.486418</td>\n",
              "      <td>0.004013</td>\n",
              "      <td>0.844980</td>\n",
              "      <td>0.977567</td>\n",
              "    </tr>\n",
              "    <tr>\n",
              "      <th>75%</th>\n",
              "      <td>10.560235</td>\n",
              "      <td>0.004120</td>\n",
              "      <td>0.850990</td>\n",
              "      <td>0.978165</td>\n",
              "    </tr>\n",
              "    <tr>\n",
              "      <th>max</th>\n",
              "      <td>11.484528</td>\n",
              "      <td>0.004444</td>\n",
              "      <td>0.869169</td>\n",
              "      <td>0.978280</td>\n",
              "    </tr>\n",
              "  </tbody>\n",
              "</table>\n",
              "</div>"
            ],
            "text/plain": [
              "        fit_time  score_time  test_score  train_score\n",
              "count   5.000000    5.000000    5.000000     5.000000\n",
              "mean   10.136170    0.003890    0.846585     0.977533\n",
              "std     1.440848    0.000585    0.014719     0.000701\n",
              "min     7.672920    0.002897    0.831398     0.976747\n",
              "25%    10.476750    0.003977    0.836390     0.976908\n",
              "50%    10.486418    0.004013    0.844980     0.977567\n",
              "75%    10.560235    0.004120    0.850990     0.978165\n",
              "max    11.484528    0.004444    0.869169     0.978280"
            ]
          },
          "metadata": {
            "tags": []
          },
          "execution_count": 116
        }
      ]
    },
    {
      "cell_type": "code",
      "metadata": {
        "id": "NUTXaPpJyTXV",
        "colab_type": "code",
        "outputId": "aeac3064-9586-433b-b3d8-40452bd3a74b",
        "colab": {
          "base_uri": "https://localhost:8080/"
        }
      },
      "source": [
        "# Model Fitting\n",
        "\n",
        "model_logisticRegression_history = model_logisticRegression.fit(X_train, y_train)"
      ],
      "execution_count": 0,
      "outputs": [
        {
          "output_type": "stream",
          "text": [
            "[Parallel(n_jobs=1)]: Using backend SequentialBackend with 1 concurrent workers.\n"
          ],
          "name": "stderr"
        },
        {
          "output_type": "stream",
          "text": [
            "convergence after 1030 epochs took 9 seconds\n"
          ],
          "name": "stdout"
        },
        {
          "output_type": "stream",
          "text": [
            "[Parallel(n_jobs=1)]: Done   1 out of   1 | elapsed:    9.6s finished\n"
          ],
          "name": "stderr"
        }
      ]
    },
    {
      "cell_type": "code",
      "metadata": {
        "id": "L5vBk1gewDlF",
        "colab_type": "code",
        "outputId": "d3c0d9d2-0243-489d-d536-2f05f86bd415",
        "colab": {
          "base_uri": "https://localhost:8080/",
          "height": 34
        }
      },
      "source": [
        "# Model evaluation\n",
        "\n",
        "Accuracy_Logistic_Regression = model_logisticRegression_history.score(X_val, y_val)\n",
        "print(\"Accuracy of Logistic Regression Model- Validation Dataset: %.3f%%\" % (Accuracy_Logistic_Regression*100.0))"
      ],
      "execution_count": 0,
      "outputs": [
        {
          "output_type": "stream",
          "text": [
            "Accuracy of Logistic Regression Model- Validation Dataset: 94.736%\n"
          ],
          "name": "stdout"
        }
      ]
    },
    {
      "cell_type": "code",
      "metadata": {
        "id": "qmMohb__iNRN",
        "colab_type": "code",
        "outputId": "4a7eaf6b-4c6d-4ad1-b484-52216d178306",
        "colab": {
          "base_uri": "https://localhost:8080/",
          "height": 34
        }
      },
      "source": [
        "# Model evaluation\n",
        "\n",
        "Accuracy_Logistic_Regression = model_logisticRegression_history.score(X_train, y_train)\n",
        "print(\"Accuracy of Logistic Regression Model- Training Dataset: %.3f%%\" % (Accuracy_Logistic_Regression*100.0))"
      ],
      "execution_count": 0,
      "outputs": [
        {
          "output_type": "stream",
          "text": [
            "Accuracy of Logistic Regression Model- Training Dataset: 96.029%\n"
          ],
          "name": "stdout"
        }
      ]
    },
    {
      "cell_type": "code",
      "metadata": {
        "id": "eE9gjW0cihzv",
        "colab_type": "code",
        "outputId": "89b46dee-fa94-44a8-89f4-6815c89d55d7",
        "colab": {
          "base_uri": "https://localhost:8080/",
          "height": 52
        }
      },
      "source": [
        "# Confusion matrix for Validation dataset \n",
        "\n",
        "y_val_predictions = model_logisticRegression_history.predict(X_val)\n",
        "cm = metrics.confusion_matrix(y_val, y_val_predictions)\n",
        "print(cm)"
      ],
      "execution_count": 0,
      "outputs": [
        {
          "output_type": "stream",
          "text": [
            "[[  54  315]\n",
            " [  30 6155]]\n"
          ],
          "name": "stdout"
        }
      ]
    },
    {
      "cell_type": "code",
      "metadata": {
        "id": "nSX5RYBlkUQr",
        "colab_type": "code",
        "outputId": "45cb8f8f-edb0-43a9-ee2b-f8a04acb5e00",
        "colab": {
          "base_uri": "https://localhost:8080/",
          "height": 520
        }
      },
      "source": [
        "# Heat map for the confusion matrix\n",
        "\n",
        "plt.figure(figsize=(9,9))\n",
        "sns.heatmap(cm, annot=True, fmt=\".3f\", linewidths=.5, square = True, cmap = 'Blues_r');\n",
        "plt.ylabel('Actual label');\n",
        "plt.xlabel('Predicted label');\n",
        "plt.title(\"Accuracy- Logistic Regression\", size = 15); "
      ],
      "execution_count": 0,
      "outputs": [
        {
          "output_type": "display_data",
          "data": {
            "image/png": "[encoded data removed]",
            "text/plain": [
              "<Figure size 648x648 with 2 Axes>"
            ]
          },
          "metadata": {
            "tags": [],
            "needs_background": "light"
          }
        }
      ]
    },
    {
      "cell_type": "code",
      "metadata": {
        "id": "RmImO7B4xuEY",
        "colab_type": "code",
        "outputId": "4fea3e2c-9d2a-4393-86f6-a250f0e5b4a2",
        "colab": {
          "base_uri": "https://localhost:8080/",
          "height": 34
        }
      },
      "source": [
        "# Misclassification rate \n",
        "\n",
        "print(\"Misclassifcation rate of Logistic regression model: \", \n",
        "      (((cm[0][1] + cm[1][0])/cm.sum())*100), \"%\")"
      ],
      "execution_count": 0,
      "outputs": [
        {
          "output_type": "stream",
          "text": [
            "Misclassifcation rate of Logistic regression model:  5.26396093988404 %\n"
          ],
          "name": "stdout"
        }
      ]
    },
    {
      "cell_type": "code",
      "metadata": {
        "id": "5sR79nKGDsVN",
        "colab_type": "code",
        "outputId": "b78db2bf-02b5-4cb1-ddc3-c5cc131d30b1",
        "colab": {
          "base_uri": "https://localhost:8080/",
          "height": 173
        }
      },
      "source": [
        "# Checking Logistic regression model summary of validation dataset \n",
        "\n",
        "print(classification_report(y_val, y_val_predictions))"
      ],
      "execution_count": 0,
      "outputs": [
        {
          "output_type": "stream",
          "text": [
            "              precision    recall  f1-score   support\n",
            "\n",
            "           0       0.64      0.15      0.24       369\n",
            "           1       0.95      1.00      0.97      6185\n",
            "\n",
            "    accuracy                           0.95      6554\n",
            "   macro avg       0.80      0.57      0.61      6554\n",
            "weighted avg       0.93      0.95      0.93      6554\n",
            "\n"
          ],
          "name": "stdout"
        }
      ]
    },
    {
      "cell_type": "code",
      "metadata": {
        "id": "3DnXoMPcwDv6",
        "colab_type": "code",
        "colab": {}
      },
      "source": [
        "# Model prediction of Test dataset\n",
        "\n",
        "y_test = model_logisticRegression_history.predict(X_test)"
      ],
      "execution_count": 0,
      "outputs": []
    },
    {
      "cell_type": "code",
      "metadata": {
        "id": "sR7QC6Dhdq_V",
        "colab_type": "code",
        "outputId": "5dc760c3-031a-4dbc-eef9-90e610252379",
        "colab": {
          "base_uri": "https://localhost:8080/",
          "height": 260
        }
      },
      "source": [
        "# saving predictions in dataframe\n",
        "\n",
        "y_test_predictions = pd.DataFrame()\n",
        "y_test_predictions[\"id\"] = test_dataframe[\"id\"]\n",
        "y_test_predictions[\"ACTION\"] = y_test\n",
        "print(y_test_predictions)\n",
        "\n",
        "# Saving results to csv file\n",
        "\n",
        "y_test_predictions.to_csv(\"submission.csv\", index = False)"
      ],
      "execution_count": 0,
      "outputs": [
        {
          "output_type": "stream",
          "text": [
            "          id  ACTION\n",
            "30919  30920       1\n",
            "4015    4016       1\n",
            "49989  49990       1\n",
            "9996    9997       1\n",
            "6647    6648       1\n",
            "...      ...     ...\n",
            "49014  49015       1\n",
            "54362  54363       1\n",
            "31385  31386       1\n",
            "19735  19736       1\n",
            "7751    7752       1\n",
            "\n",
            "[58921 rows x 2 columns]\n"
          ],
          "name": "stdout"
        }
      ]
    },
    {
      "cell_type": "code",
      "metadata": {
        "id": "ZeEpkLgbGiQB",
        "colab_type": "code",
        "outputId": "7d49f3ff-fb59-480b-d585-59f28bce391a",
        "colab": {
          "base_uri": "https://localhost:8080/",
          "height": 349
        }
      },
      "source": [
        "# Finding ACTION target variable for test dataframe\n",
        "\n",
        "print(y_test_predictions['ACTION'].value_counts())\n",
        "sns.countplot(x='ACTION',data = y_test_predictions, palette='hls')\n",
        "plt.show() \n",
        "plt.savefig('count_plot')"
      ],
      "execution_count": 0,
      "outputs": [
        {
          "output_type": "stream",
          "text": [
            "1    58037\n",
            "0      884\n",
            "Name: ACTION, dtype: int64\n"
          ],
          "name": "stdout"
        },
        {
          "output_type": "display_data",
          "data": {
            "image/png": "[encoded data removed]",
            "text/plain": [
              "<Figure size 432x288 with 1 Axes>"
            ]
          },
          "metadata": {
            "tags": [],
            "needs_background": "light"
          }
        },
        {
          "output_type": "display_data",
          "data": {
            "text/plain": [
              "<Figure size 432x288 with 0 Axes>"
            ]
          },
          "metadata": {
            "tags": []
          }
        }
      ]
    },
    {
      "cell_type": "code",
      "metadata": {
        "id": "A10Nb82pI4bQ",
        "colab_type": "code",
        "outputId": "e17f15cd-0d3d-408f-940a-321764f05dfe",
        "colab": {
          "base_uri": "https://localhost:8080/",
          "height": 294
        }
      },
      "source": [
        "# ROC curve for Logistic regression model\n",
        "# The receiver operating characteristic (ROC) curve is another common tool used with binary classifiers. \n",
        "# The dotted line represents the ROC curve of a purely random classifier; a good classifier stays as far away from that line as possible (toward the top-left corner).\n",
        "\n",
        "logit_roc_auc = roc_auc_score(y_val, model_logisticRegression_history.predict(X_val))\n",
        "fpr, tpr, thresholds = roc_curve(y_val, model_logisticRegression_history.predict_proba(X_val)[:,1])\n",
        "plt.figure()\n",
        "plt.plot(fpr, tpr, label='Logistic Regression (area = %0.2f)' % logit_roc_auc)\n",
        "plt.plot([0, 1], [0, 1],'r--')\n",
        "plt.xlim([0.0, 1.0])\n",
        "plt.ylim([0.0, 1.05])\n",
        "plt.xlabel('False Positive Rate')\n",
        "plt.ylabel('True Positive Rate')\n",
        "plt.title('Receiver operating characteristic')\n",
        "plt.legend(loc=\"lower right\")\n",
        "plt.savefig('Log_ROC')\n",
        "plt.show()"
      ],
      "execution_count": 0,
      "outputs": [
        {
          "output_type": "display_data",
          "data": {
            "image/png": "[encoded data removed]",
            "text/plain": [
              "<Figure size 432x288 with 1 Axes>"
            ]
          },
          "metadata": {
            "tags": [],
            "needs_background": "light"
          }
        }
      ]
    },
    {
      "cell_type": "markdown",
      "metadata": {
        "id": "7DnF0BIRU6nD",
        "colab_type": "text"
      },
      "source": [
        "\n",
        "\n",
        "\n",
        "\n",
        "\n",
        "\n",
        "\n",
        "\n",
        "### **b. Model 2 - Stochastic Gradient Descent (SGD)**"
      ]
    },
    {
      "cell_type": "code",
      "metadata": {
        "id": "lkQ53zUXVYxS",
        "colab_type": "code",
        "outputId": "0d07d7f4-12fd-46c4-f655-baf75c45079f",
        "colab": {
          "base_uri": "https://localhost:8080/",
          "height": 294
        }
      },
      "source": [
        "# Building stochastic gradient descent model\n",
        "\n",
        "model_SGDClassifier = SGDClassifier(loss=\"log\", penalty=\"l2\", max_iter=5)\n",
        "\n",
        "# Cross validating the Logistic regression model to check the score and summary of the model\n",
        "statistics_cv = cross_validate(model_SGDClassifier, X_train, y_train, groups=None, scoring='roc_auc', cv=5, n_jobs=2, return_train_score = True)\n",
        "statistics_cv = pd.DataFrame(statistics_cv)\n",
        "statistics_cv.describe()"
      ],
      "execution_count": 0,
      "outputs": [
        {
          "output_type": "execute_result",
          "data": {
            "text/html": [
              "<div>\n",
              "<style scoped>\n",
              "    .dataframe tbody tr th:only-of-type {\n",
              "        vertical-align: middle;\n",
              "    }\n",
              "\n",
              "    .dataframe tbody tr th {\n",
              "        vertical-align: top;\n",
              "    }\n",
              "\n",
              "    .dataframe thead th {\n",
              "        text-align: right;\n",
              "    }\n",
              "</style>\n",
              "<table border=\"1\" class=\"dataframe\">\n",
              "  <thead>\n",
              "    <tr style=\"text-align: right;\">\n",
              "      <th></th>\n",
              "      <th>fit_time</th>\n",
              "      <th>score_time</th>\n",
              "      <th>test_score</th>\n",
              "      <th>train_score</th>\n",
              "    </tr>\n",
              "  </thead>\n",
              "  <tbody>\n",
              "    <tr>\n",
              "      <th>count</th>\n",
              "      <td>5.000000</td>\n",
              "      <td>5.000000</td>\n",
              "      <td>5.000000</td>\n",
              "      <td>5.000000</td>\n",
              "    </tr>\n",
              "    <tr>\n",
              "      <th>mean</th>\n",
              "      <td>0.041410</td>\n",
              "      <td>0.004298</td>\n",
              "      <td>0.832447</td>\n",
              "      <td>0.949008</td>\n",
              "    </tr>\n",
              "    <tr>\n",
              "      <th>std</th>\n",
              "      <td>0.008309</td>\n",
              "      <td>0.000840</td>\n",
              "      <td>0.012683</td>\n",
              "      <td>0.003564</td>\n",
              "    </tr>\n",
              "    <tr>\n",
              "      <th>min</th>\n",
              "      <td>0.028054</td>\n",
              "      <td>0.002915</td>\n",
              "      <td>0.820400</td>\n",
              "      <td>0.944744</td>\n",
              "    </tr>\n",
              "    <tr>\n",
              "      <th>25%</th>\n",
              "      <td>0.040158</td>\n",
              "      <td>0.004335</td>\n",
              "      <td>0.821617</td>\n",
              "      <td>0.945832</td>\n",
              "    </tr>\n",
              "    <tr>\n",
              "      <th>50%</th>\n",
              "      <td>0.043386</td>\n",
              "      <td>0.004427</td>\n",
              "      <td>0.829061</td>\n",
              "      <td>0.950395</td>\n",
              "    </tr>\n",
              "    <tr>\n",
              "      <th>75%</th>\n",
              "      <td>0.045221</td>\n",
              "      <td>0.004626</td>\n",
              "      <td>0.842060</td>\n",
              "      <td>0.950968</td>\n",
              "    </tr>\n",
              "    <tr>\n",
              "      <th>max</th>\n",
              "      <td>0.050230</td>\n",
              "      <td>0.005185</td>\n",
              "      <td>0.849095</td>\n",
              "      <td>0.953103</td>\n",
              "    </tr>\n",
              "  </tbody>\n",
              "</table>\n",
              "</div>"
            ],
            "text/plain": [
              "       fit_time  score_time  test_score  train_score\n",
              "count  5.000000    5.000000    5.000000     5.000000\n",
              "mean   0.041410    0.004298    0.832447     0.949008\n",
              "std    0.008309    0.000840    0.012683     0.003564\n",
              "min    0.028054    0.002915    0.820400     0.944744\n",
              "25%    0.040158    0.004335    0.821617     0.945832\n",
              "50%    0.043386    0.004427    0.829061     0.950395\n",
              "75%    0.045221    0.004626    0.842060     0.950968\n",
              "max    0.050230    0.005185    0.849095     0.953103"
            ]
          },
          "metadata": {
            "tags": []
          },
          "execution_count": 69
        }
      ]
    },
    {
      "cell_type": "code",
      "metadata": {
        "colab_type": "code",
        "id": "UU7T7ch5bTgX",
        "outputId": "ed668d6a-5e6c-4212-c144-072cf5e12fec",
        "colab": {
          "base_uri": "https://localhost:8080/",
          "height": 52
        }
      },
      "source": [
        "# Model Fitting\n",
        "\n",
        "model_SGDClassifier_history = model_SGDClassifier.fit(X_train, y_train)"
      ],
      "execution_count": 0,
      "outputs": [
        {
          "output_type": "stream",
          "text": [
            "/usr/local/lib/python3.6/dist-packages/sklearn/linear_model/_stochastic_gradient.py:557: ConvergenceWarning: Maximum number of iteration reached before convergence. Consider increasing max_iter to improve the fit.\n",
            "  ConvergenceWarning)\n"
          ],
          "name": "stderr"
        }
      ]
    },
    {
      "cell_type": "code",
      "metadata": {
        "id": "GCkuW2vs-ycC",
        "colab_type": "code",
        "outputId": "e12e781b-3969-469e-8e6a-cb263b237d2f",
        "colab": {
          "base_uri": "https://localhost:8080/",
          "height": 34
        }
      },
      "source": [
        "# Model evaluation\n",
        "\n",
        "Accuracy_SGDClassifier = model_SGDClassifier_history.score(X_train, y_train)\n",
        "print(\"Accuracy of SGDClassifier Model- Training Dataset: %.3f%%\" % (Accuracy_SGDClassifier*100.0))"
      ],
      "execution_count": 0,
      "outputs": [
        {
          "output_type": "stream",
          "text": [
            "Accuracy of SGDClassifier Model- Training Dataset: 94.930%\n"
          ],
          "name": "stdout"
        }
      ]
    },
    {
      "cell_type": "code",
      "metadata": {
        "colab_type": "code",
        "id": "Psc37e5lbTgi",
        "outputId": "a3c1fa92-5d5d-4793-c2c0-d448cc9b109a",
        "colab": {
          "base_uri": "https://localhost:8080/",
          "height": 34
        }
      },
      "source": [
        "# Model evaluation\n",
        "\n",
        "Accuracy_SGDClassifier = model_SGDClassifier_history.score(X_val, y_val)\n",
        "print(\"Accuracy of SGDClassifier Model- - Validation Dataset: %.3f%%\" % (Accuracy_SGDClassifier*100.0))"
      ],
      "execution_count": 0,
      "outputs": [
        {
          "output_type": "stream",
          "text": [
            "Accuracy of SGDClassifier Model- - Validation Dataset: 94.309%\n"
          ],
          "name": "stdout"
        }
      ]
    },
    {
      "cell_type": "code",
      "metadata": {
        "colab_type": "code",
        "id": "SY9g_ecRbTgu",
        "outputId": "7e2eb77c-13df-417c-f5cd-7b38498fe17f",
        "colab": {
          "base_uri": "https://localhost:8080/",
          "height": 52
        }
      },
      "source": [
        "#Confusion matrix for Validation dataset \n",
        "\n",
        "y_val_predictions = model_SGDClassifier_history.predict(X_val)\n",
        "cm_sgd = metrics.confusion_matrix(y_val, y_val_predictions)\n",
        "print(cm_sgd)"
      ],
      "execution_count": 0,
      "outputs": [
        {
          "output_type": "stream",
          "text": [
            "[[  27  358]\n",
            " [  15 6154]]\n"
          ],
          "name": "stdout"
        }
      ]
    },
    {
      "cell_type": "code",
      "metadata": {
        "colab_type": "code",
        "id": "Aq-RPf-1bTgw",
        "outputId": "73fb80a8-8eb9-4863-feed-417430b208bb",
        "colab": {
          "base_uri": "https://localhost:8080/",
          "height": 520
        }
      },
      "source": [
        "plt.figure(figsize=(9,9))\n",
        "sns.heatmap(cm_sgd, annot=True, fmt=\".3f\", linewidths=.5, square = True, cmap = 'Blues_r');\n",
        "plt.ylabel('Actual label');\n",
        "plt.xlabel('Predicted label');\n",
        "plt.title(\"Accuracy- Stochastic gradient descent\", size = 15); "
      ],
      "execution_count": 0,
      "outputs": [
        {
          "output_type": "display_data",
          "data": {
            "image/png": "[encoded data removed]",
            "text/plain": [
              "<Figure size 648x648 with 2 Axes>"
            ]
          },
          "metadata": {
            "tags": [],
            "needs_background": "light"
          }
        }
      ]
    },
    {
      "cell_type": "code",
      "metadata": {
        "id": "axJVoS5qgPvj",
        "colab_type": "code",
        "outputId": "b941a6d0-1869-4f5f-b0ce-42278dc0fff3",
        "colab": {
          "base_uri": "https://localhost:8080/",
          "height": 34
        }
      },
      "source": [
        "# Misclassification rate \n",
        "\n",
        "print(\"Misclassifcation rate of Stochastic gradient descent model: \", \n",
        "      (((cm_sgd[0][1] + cm_sgd[1][0])/cm_sgd.sum())*100), \"%\")"
      ],
      "execution_count": 0,
      "outputs": [
        {
          "output_type": "stream",
          "text": [
            "Misclassifcation rate of Stochastic gradient descent model:  5.69118095819347 %\n"
          ],
          "name": "stdout"
        }
      ]
    },
    {
      "cell_type": "code",
      "metadata": {
        "colab_type": "code",
        "id": "DfTsCd9_bTgy",
        "outputId": "945c4b4f-f21e-48e0-fabe-e4cee37e9961",
        "colab": {
          "base_uri": "https://localhost:8080/",
          "height": 173
        }
      },
      "source": [
        "# Checking accuracy on validation dataset using model\n",
        "\n",
        "print(classification_report(y_val, y_val_predictions))"
      ],
      "execution_count": 0,
      "outputs": [
        {
          "output_type": "stream",
          "text": [
            "              precision    recall  f1-score   support\n",
            "\n",
            "           0       0.64      0.07      0.13       385\n",
            "           1       0.95      1.00      0.97      6169\n",
            "\n",
            "    accuracy                           0.94      6554\n",
            "   macro avg       0.79      0.53      0.55      6554\n",
            "weighted avg       0.93      0.94      0.92      6554\n",
            "\n"
          ],
          "name": "stdout"
        }
      ]
    },
    {
      "cell_type": "code",
      "metadata": {
        "colab_type": "code",
        "id": "wy9rlrKibTgm",
        "colab": {}
      },
      "source": [
        "# Model Prediction\n",
        "\n",
        "y_test = model_SGDClassifier_history.predict(X_test)"
      ],
      "execution_count": 0,
      "outputs": []
    },
    {
      "cell_type": "code",
      "metadata": {
        "colab_type": "code",
        "id": "qTEQy4dKbTgo",
        "outputId": "43f78629-365e-4685-c97e-91d2bfa5c4bc",
        "colab": {
          "base_uri": "https://localhost:8080/",
          "height": 260
        }
      },
      "source": [
        "#saving predictions in dataframe\n",
        "\n",
        "y_test_predictions = pd.DataFrame()\n",
        "y_test_predictions[\"id\"] = test_dataframe[\"id\"]\n",
        "y_test_predictions[\"ACTION\"] = y_test\n",
        "print(y_test_predictions)\n",
        "\n",
        "#Saving results to csv file\n",
        "\n",
        "y_test_predictions.to_csv(\"submission.csv\", index = False)"
      ],
      "execution_count": 0,
      "outputs": [
        {
          "output_type": "stream",
          "text": [
            "          id  ACTION\n",
            "12897  12898       1\n",
            "24407  24408       1\n",
            "49218  49219       1\n",
            "57192  57193       1\n",
            "7334    7335       1\n",
            "...      ...     ...\n",
            "16782  16783       1\n",
            "35294  35295       1\n",
            "17732  17733       1\n",
            "18117  18118       1\n",
            "4609    4610       1\n",
            "\n",
            "[58921 rows x 2 columns]\n"
          ],
          "name": "stdout"
        }
      ]
    },
    {
      "cell_type": "code",
      "metadata": {
        "colab_type": "code",
        "id": "j0M9nSoJbTgr",
        "outputId": "abfbd773-b9f7-4fed-d40f-fac2f7bbfc5c",
        "colab": {
          "base_uri": "https://localhost:8080/",
          "height": 348
        }
      },
      "source": [
        "print(y_test_predictions['ACTION'].value_counts())\n",
        "sns.countplot(x='ACTION',data = y_test_predictions, palette='hls')\n",
        "plt.show() \n",
        "plt.savefig('count_plot')"
      ],
      "execution_count": 0,
      "outputs": [
        {
          "output_type": "stream",
          "text": [
            "1    58543\n",
            "0      378\n",
            "Name: ACTION, dtype: int64\n"
          ],
          "name": "stdout"
        },
        {
          "output_type": "display_data",
          "data": {
            "image/png": "[encoded data removed]",
            "text/plain": [
              "<Figure size 432x288 with 1 Axes>"
            ]
          },
          "metadata": {
            "tags": [],
            "needs_background": "light"
          }
        },
        {
          "output_type": "display_data",
          "data": {
            "text/plain": [
              "<Figure size 432x288 with 0 Axes>"
            ]
          },
          "metadata": {
            "tags": []
          }
        }
      ]
    },
    {
      "cell_type": "code",
      "metadata": {
        "colab_type": "code",
        "id": "gIEm88ggbTg0",
        "outputId": "af4a6272-1011-473a-f6f7-5e622f6b47d2",
        "colab": {
          "base_uri": "https://localhost:8080/",
          "height": 294
        }
      },
      "source": [
        "#ROC Curve for SGD(Stochastic gradient descent)\n",
        "# The receiver operating characteristic (ROC) curve is another common tool used with binary classifiers. \n",
        "# The dotted line represents the ROC curve of a purely random classifier; a good classifier stays as far away from that line as possible (toward the top-left corner).\n",
        "\n",
        "logit_roc_auc = roc_auc_score(y_val, model_SGDClassifier_history.predict(X_val))\n",
        "fpr, tpr, thresholds = roc_curve(y_val, model_SGDClassifier_history.predict_proba(X_val)[:,1])\n",
        "plt.figure()\n",
        "plt.plot(fpr, tpr, label='SGDClassifier (area = %0.2f)' % logit_roc_auc)\n",
        "plt.plot([0, 1], [0, 1],'r--')\n",
        "plt.xlim([0.0, 1.0])\n",
        "plt.ylim([0.0, 1.05])\n",
        "plt.xlabel('False Positive Rate')\n",
        "plt.ylabel('True Positive Rate')\n",
        "plt.title('Receiver operating characteristic')\n",
        "plt.legend(loc=\"lower right\")\n",
        "plt.savefig('Log_ROC')\n",
        "plt.show()"
      ],
      "execution_count": 0,
      "outputs": [
        {
          "output_type": "display_data",
          "data": {
            "image/png": "[encoded data removed]",
            "text/plain": [
              "<Figure size 432x288 with 1 Axes>"
            ]
          },
          "metadata": {
            "tags": [],
            "needs_background": "light"
          }
        }
      ]
    },
    {
      "cell_type": "markdown",
      "metadata": {
        "id": "1AWfB7nG0H2e",
        "colab_type": "text"
      },
      "source": [
        "### **c. Model 3 - Support Vector Machines (SVM)**"
      ]
    },
    {
      "cell_type": "code",
      "metadata": {
        "id": "_647hMn4xtZd",
        "colab_type": "code",
        "colab": {}
      },
      "source": [
        "# Building Support Vector Machines (SVM) model \n",
        "\n",
        "model_svm = svm.SVC()"
      ],
      "execution_count": 0,
      "outputs": []
    },
    {
      "cell_type": "code",
      "metadata": {
        "colab_type": "code",
        "id": "cGUoEqSEzO8Y",
        "outputId": "b302a856-fc93-439e-b46a-ba3522d02c33",
        "colab": {
          "base_uri": "https://localhost:8080/"
        }
      },
      "source": [
        "# Cross validating the Support Vector Machines (SVM) model to check the score and summary of the model\n",
        "\n",
        "statistics_cv = cross_validate(model_svm, X_train, y_train, groups=None, scoring='roc_auc', cv=5, n_jobs=2, return_train_score = True)\n",
        "\n",
        "statistics_cv = pd.DataFrame(statistics_cv)\n",
        "statistics_cv.describe()"
      ],
      "execution_count": 0,
      "outputs": [
        {
          "output_type": "execute_result",
          "data": {
            "text/html": [
              "<div>\n",
              "<style scoped>\n",
              "    .dataframe tbody tr th:only-of-type {\n",
              "        vertical-align: middle;\n",
              "    }\n",
              "\n",
              "    .dataframe tbody tr th {\n",
              "        vertical-align: top;\n",
              "    }\n",
              "\n",
              "    .dataframe thead th {\n",
              "        text-align: right;\n",
              "    }\n",
              "</style>\n",
              "<table border=\"1\" class=\"dataframe\">\n",
              "  <thead>\n",
              "    <tr style=\"text-align: right;\">\n",
              "      <th></th>\n",
              "      <th>fit_time</th>\n",
              "      <th>score_time</th>\n",
              "      <th>test_score</th>\n",
              "      <th>train_score</th>\n",
              "    </tr>\n",
              "  </thead>\n",
              "  <tbody>\n",
              "    <tr>\n",
              "      <th>count</th>\n",
              "      <td>5.000000</td>\n",
              "      <td>5.000000</td>\n",
              "      <td>5.000000</td>\n",
              "      <td>5.000000</td>\n",
              "    </tr>\n",
              "    <tr>\n",
              "      <th>mean</th>\n",
              "      <td>47.451154</td>\n",
              "      <td>4.001252</td>\n",
              "      <td>0.844721</td>\n",
              "      <td>0.995804</td>\n",
              "    </tr>\n",
              "    <tr>\n",
              "      <th>std</th>\n",
              "      <td>6.358854</td>\n",
              "      <td>0.717493</td>\n",
              "      <td>0.014891</td>\n",
              "      <td>0.000551</td>\n",
              "    </tr>\n",
              "    <tr>\n",
              "      <th>min</th>\n",
              "      <td>36.244400</td>\n",
              "      <td>2.725279</td>\n",
              "      <td>0.826490</td>\n",
              "      <td>0.995316</td>\n",
              "    </tr>\n",
              "    <tr>\n",
              "      <th>25%</th>\n",
              "      <td>48.704055</td>\n",
              "      <td>4.229540</td>\n",
              "      <td>0.834960</td>\n",
              "      <td>0.995362</td>\n",
              "    </tr>\n",
              "    <tr>\n",
              "      <th>50%</th>\n",
              "      <td>50.089489</td>\n",
              "      <td>4.258087</td>\n",
              "      <td>0.842771</td>\n",
              "      <td>0.995543</td>\n",
              "    </tr>\n",
              "    <tr>\n",
              "      <th>75%</th>\n",
              "      <td>50.453260</td>\n",
              "      <td>4.384859</td>\n",
              "      <td>0.857786</td>\n",
              "      <td>0.996360</td>\n",
              "    </tr>\n",
              "    <tr>\n",
              "      <th>max</th>\n",
              "      <td>51.764568</td>\n",
              "      <td>4.408493</td>\n",
              "      <td>0.861596</td>\n",
              "      <td>0.996440</td>\n",
              "    </tr>\n",
              "  </tbody>\n",
              "</table>\n",
              "</div>"
            ],
            "text/plain": [
              "        fit_time  score_time  test_score  train_score\n",
              "count   5.000000    5.000000    5.000000     5.000000\n",
              "mean   47.451154    4.001252    0.844721     0.995804\n",
              "std     6.358854    0.717493    0.014891     0.000551\n",
              "min    36.244400    2.725279    0.826490     0.995316\n",
              "25%    48.704055    4.229540    0.834960     0.995362\n",
              "50%    50.089489    4.258087    0.842771     0.995543\n",
              "75%    50.453260    4.384859    0.857786     0.996360\n",
              "max    51.764568    4.408493    0.861596     0.996440"
            ]
          },
          "metadata": {
            "tags": []
          },
          "execution_count": 102
        }
      ]
    },
    {
      "cell_type": "code",
      "metadata": {
        "colab_type": "code",
        "id": "f3AKbF7qzO8b",
        "colab": {}
      },
      "source": [
        "# Model Fitting\n",
        "\n",
        "model_svm_history = model_svm.fit(X_train, y_train)"
      ],
      "execution_count": 0,
      "outputs": []
    },
    {
      "cell_type": "code",
      "metadata": {
        "colab_type": "code",
        "id": "5kcy3zXUzO8n",
        "outputId": "c4bfa500-4a35-49cc-dab8-583aa3249387",
        "colab": {
          "base_uri": "https://localhost:8080/"
        }
      },
      "source": [
        "#Confusion matrix for Validation dataset \n",
        "\n",
        "y_val_predictions = model_svm_history.predict(X_val)\n",
        "cm_svm = metrics.confusion_matrix(y_val, y_val_predictions)\n",
        "print(cm_svm)"
      ],
      "execution_count": 0,
      "outputs": [
        {
          "output_type": "stream",
          "text": [
            "[[  58  327]\n",
            " [  31 6138]]\n"
          ],
          "name": "stdout"
        }
      ]
    },
    {
      "cell_type": "code",
      "metadata": {
        "colab_type": "code",
        "id": "bH3hWWszzO8p",
        "outputId": "c402ecde-40e5-46af-9e45-104e4f10868e",
        "colab": {
          "base_uri": "https://localhost:8080/"
        }
      },
      "source": [
        "# Heat map for the confusion matrix\n",
        "\n",
        "plt.figure(figsize=(9,9))\n",
        "sns.heatmap(cm_svm, annot=True, fmt=\".3f\", linewidths=.5, square = True, cmap = 'Blues_r');\n",
        "plt.ylabel('Actual label');\n",
        "plt.xlabel('Predicted label');\n",
        "plt.title(\"Accuracy- Support Vector Machines\", size = 15); "
      ],
      "execution_count": 0,
      "outputs": [
        {
          "output_type": "display_data",
          "data": {
            "image/png": "[encoded data removed]",
            "text/plain": [
              "<Figure size 648x648 with 2 Axes>"
            ]
          },
          "metadata": {
            "tags": [],
            "needs_background": "light"
          }
        }
      ]
    },
    {
      "cell_type": "code",
      "metadata": {
        "id": "9K8ZywdZelkX",
        "colab_type": "code",
        "outputId": "29bbb52f-073c-457a-926d-f2d12fe05693",
        "colab": {
          "base_uri": "https://localhost:8080/"
        }
      },
      "source": [
        "# Misclassification rate \n",
        "\n",
        "print(\"Misclassifcation rate of SVM Model: \", \n",
        "      (((cm_svm[0][1] + cm_svm[1][0])/cm_svm.sum())*100), \"%\")"
      ],
      "execution_count": 0,
      "outputs": [
        {
          "output_type": "stream",
          "text": [
            "Misclassifcation rate of SVM Model:  5.46231309124199 %\n"
          ],
          "name": "stdout"
        }
      ]
    },
    {
      "cell_type": "code",
      "metadata": {
        "colab_type": "code",
        "id": "BXpJUpGLzO8r",
        "outputId": "1f4c1e3e-e964-4f74-9dc3-1a1056346573",
        "colab": {
          "base_uri": "https://localhost:8080/"
        }
      },
      "source": [
        "# Checking accuracy on validation dataset using model\n",
        "\n",
        "print(classification_report(y_val, y_val_predictions))"
      ],
      "execution_count": 0,
      "outputs": [
        {
          "output_type": "stream",
          "text": [
            "              precision    recall  f1-score   support\n",
            "\n",
            "           0       0.65      0.15      0.24       385\n",
            "           1       0.95      0.99      0.97      6169\n",
            "\n",
            "    accuracy                           0.95      6554\n",
            "   macro avg       0.80      0.57      0.61      6554\n",
            "weighted avg       0.93      0.95      0.93      6554\n",
            "\n"
          ],
          "name": "stdout"
        }
      ]
    },
    {
      "cell_type": "code",
      "metadata": {
        "colab_type": "code",
        "id": "7nDuupiNzO8e",
        "outputId": "68181502-ba2b-4380-fee7-4f600ebe95f6",
        "colab": {
          "base_uri": "https://localhost:8080/"
        }
      },
      "source": [
        "# Model accuracy\n",
        "\n",
        "Accuracy_svm = model_svm_history.score(X_train, y_train)\n",
        "print(\"Accuracy of SVM Model- Training dataset: %.3f%%\" % (Accuracy_svm*100.0))"
      ],
      "execution_count": 0,
      "outputs": [
        {
          "output_type": "stream",
          "text": [
            "Accuracy of SVM Model- Training dataset: 95.758%\n"
          ],
          "name": "stdout"
        }
      ]
    },
    {
      "cell_type": "code",
      "metadata": {
        "id": "2pCXbB3zBFEd",
        "colab_type": "code",
        "outputId": "2ebf819e-2221-4b5e-880a-65ad40e815fc",
        "colab": {
          "base_uri": "https://localhost:8080/"
        }
      },
      "source": [
        "# Model evaluation\n",
        "\n",
        "Accuracy_svm = model_svm_history.score(X_val, y_val)\n",
        "print(\"Accuracy of SVM Model- - Validation Dataset: %.3f%%\" % (Accuracy_svm*100.0))"
      ],
      "execution_count": 0,
      "outputs": [
        {
          "output_type": "stream",
          "text": [
            "Accuracy of SVM Model- - Validation Dataset: 94.538%\n"
          ],
          "name": "stdout"
        }
      ]
    },
    {
      "cell_type": "code",
      "metadata": {
        "colab_type": "code",
        "id": "0ionx5L2zO8g",
        "colab": {}
      },
      "source": [
        "#Predicting test dataset \n",
        "\n",
        "y_test = model_svm_history.predict(X_test)"
      ],
      "execution_count": 0,
      "outputs": []
    },
    {
      "cell_type": "code",
      "metadata": {
        "colab_type": "code",
        "id": "EyVhmD9wzO8i",
        "outputId": "fe204c20-dd29-4192-dec1-66040f602617",
        "colab": {
          "base_uri": "https://localhost:8080/"
        }
      },
      "source": [
        "#saving predictions in dataframe\n",
        "y_test_predictions = pd.DataFrame()\n",
        "y_test_predictions[\"id\"] = test_dataframe[\"id\"]\n",
        "y_test_predictions[\"ACTION\"] = y_test\n",
        "print(y_test_predictions)\n",
        "\n",
        "#Saving results to csv file\n",
        "y_test_predictions.to_csv(\"submission.csv\", index = False)"
      ],
      "execution_count": 0,
      "outputs": [
        {
          "output_type": "stream",
          "text": [
            "          id  ACTION\n",
            "12897  12898       1\n",
            "24407  24408       1\n",
            "49218  49219       1\n",
            "57192  57193       1\n",
            "7334    7335       1\n",
            "...      ...     ...\n",
            "16782  16783       1\n",
            "35294  35295       1\n",
            "17732  17733       1\n",
            "18117  18118       1\n",
            "4609    4610       1\n",
            "\n",
            "[58921 rows x 2 columns]\n"
          ],
          "name": "stdout"
        }
      ]
    },
    {
      "cell_type": "code",
      "metadata": {
        "id": "h_Fxi8aLhGGB",
        "colab_type": "code",
        "outputId": "28222a1c-6776-419f-854f-b4563a76c600",
        "colab": {
          "base_uri": "https://localhost:8080/"
        }
      },
      "source": [
        "# Finding ACTION target variable for test dataframe\n",
        "\n",
        "count_Class= y_test_predictions['ACTION'].value_counts()\n",
        "\n",
        "print(\"Count of ACTION variable: \\n\",count_Class)"
      ],
      "execution_count": 0,
      "outputs": [
        {
          "output_type": "stream",
          "text": [
            "Count of ACTION variable: \n",
            " 1    58095\n",
            "0      826\n",
            "Name: ACTION, dtype: int64\n"
          ],
          "name": "stdout"
        }
      ]
    },
    {
      "cell_type": "code",
      "metadata": {
        "id": "YbrrQK_za0mb",
        "colab_type": "code",
        "outputId": "259b4d9e-6ded-48ae-f08f-86bbce431237",
        "colab": {
          "base_uri": "https://localhost:8080/"
        }
      },
      "source": [
        "# Pie chart for counts of ACTION target variable for test dataframe\n",
        "\n",
        "count_Class.plot(kind = 'pie',  autopct='%1.0f%%')\n",
        "plt.title('Pie chart of count of ACTION variable')\n",
        "plt.ylabel('')\n",
        "plt.show()"
      ],
      "execution_count": 0,
      "outputs": [
        {
          "output_type": "display_data",
          "data": {
            "image/png": "[encoded data removed]",
            "text/plain": [
              "<Figure size 432x288 with 1 Axes>"
            ]
          },
          "metadata": {
            "tags": []
          }
        }
      ]
    },
    {
      "cell_type": "markdown",
      "metadata": {
        "id": "WQG5eY94h11d",
        "colab_type": "text"
      },
      "source": [
        "\n",
        "\n",
        "\n",
        "\n",
        "\n",
        "\n",
        "\n",
        "\n",
        "### **d. Model 4 - Dense Neural Network Model (DNN)**\n",
        "\n",
        "\n",
        "\n",
        "\n",
        "\n"
      ]
    },
    {
      "cell_type": "code",
      "metadata": {
        "id": "PByqQd_CYwvu",
        "colab_type": "code",
        "colab": {}
      },
      "source": [
        "#Building first model for binary classification \n",
        "\n",
        "first_model = keras.Sequential([\n",
        "                                keras.layers.Dense(32,activation=tf.nn.relu, \n",
        "                                input_shape=(X_train.shape[1],)),\n",
        "                                keras.layers.Dense(1, activation= \"sigmoid\")  # For Binary classification using activation= \"sigmoid\"\n",
        "                              ])\n",
        "\n",
        "first_model.compile(optimizer = 'adam',\n",
        "           loss = 'binary_crossentropy',\n",
        "           metrics=['accuracy'])\n",
        "\n",
        "# no. of neurons in hidden layer=input+output/2 or 2/3 Input +output or 2 times input\n",
        "# relu has to do with optimisation, easier to compute gradients"
      ],
      "execution_count": 0,
      "outputs": []
    },
    {
      "cell_type": "code",
      "metadata": {
        "id": "AoF_mtlgZ-Mk",
        "colab_type": "code",
        "outputId": "f1493071-564c-40dc-8a66-3cc8e19c8262",
        "colab": {
          "base_uri": "https://localhost:8080/",
          "height": 225
        }
      },
      "source": [
        "first_model.summary()"
      ],
      "execution_count": 0,
      "outputs": [
        {
          "output_type": "stream",
          "text": [
            "Model: \"sequential_7\"\n",
            "_________________________________________________________________\n",
            "Layer (type)                 Output Shape              Param #   \n",
            "=================================================================\n",
            "dense_39 (Dense)             (None, 32)                500064    \n",
            "_________________________________________________________________\n",
            "dense_40 (Dense)             (None, 1)                 33        \n",
            "=================================================================\n",
            "Total params: 500,097\n",
            "Trainable params: 500,097\n",
            "Non-trainable params: 0\n",
            "_________________________________________________________________\n"
          ],
          "name": "stdout"
        }
      ]
    },
    {
      "cell_type": "code",
      "metadata": {
        "id": "bQoRqeExieMt",
        "colab_type": "code",
        "outputId": "bffffb86-3ce5-41cc-eba9-3e9cc7c29ecc",
        "colab": {
          "base_uri": "https://localhost:8080/"
        }
      },
      "source": [
        "f1_history = first_model.fit(X_train, y_train, epochs=50, validation_data= (X_val, y_val), batch_size=1)"
      ],
      "execution_count": 0,
      "outputs": [
        {
          "output_type": "stream",
          "text": [
            "Epoch 1/50\n",
            "26215/26215 [==============================] - 64s 2ms/step - loss: 0.1942 - accuracy: 0.9422 - val_loss: 0.1847 - val_accuracy: 0.9423\n",
            "Epoch 2/50\n",
            "26215/26215 [==============================] - 65s 2ms/step - loss: 0.1599 - accuracy: 0.9468 - val_loss: 0.1788 - val_accuracy: 0.9443\n",
            "Epoch 3/50\n",
            "26215/26215 [==============================] - 67s 3ms/step - loss: 0.1469 - accuracy: 0.9516 - val_loss: 0.1844 - val_accuracy: 0.9449\n",
            "Epoch 4/50\n",
            "26215/26215 [==============================] - 64s 2ms/step - loss: 0.1382 - accuracy: 0.9547 - val_loss: 0.1784 - val_accuracy: 0.9457\n",
            "Epoch 5/50\n",
            "26215/26215 [==============================] - 63s 2ms/step - loss: 0.1323 - accuracy: 0.9569 - val_loss: 0.1790 - val_accuracy: 0.9471\n",
            "Epoch 6/50\n",
            "26215/26215 [==============================] - 63s 2ms/step - loss: 0.1274 - accuracy: 0.9599 - val_loss: 0.1797 - val_accuracy: 0.9458\n",
            "Epoch 7/50\n",
            "26215/26215 [==============================] - 64s 2ms/step - loss: 0.1235 - accuracy: 0.9609 - val_loss: 0.1809 - val_accuracy: 0.9458\n",
            "Epoch 8/50\n",
            "26215/26215 [==============================] - 64s 2ms/step - loss: 0.1196 - accuracy: 0.9626 - val_loss: 0.1808 - val_accuracy: 0.9469\n",
            "Epoch 9/50\n",
            "26215/26215 [==============================] - 65s 2ms/step - loss: 0.1172 - accuracy: 0.9639 - val_loss: 0.1867 - val_accuracy: 0.9457\n",
            "Epoch 10/50\n",
            "26215/26215 [==============================] - 64s 2ms/step - loss: 0.1141 - accuracy: 0.9654 - val_loss: 0.1892 - val_accuracy: 0.9468\n",
            "Epoch 11/50\n",
            "26215/26215 [==============================] - 65s 2ms/step - loss: 0.1122 - accuracy: 0.9664 - val_loss: 0.1912 - val_accuracy: 0.9464\n",
            "Epoch 12/50\n",
            "26215/26215 [==============================] - 64s 2ms/step - loss: 0.1092 - accuracy: 0.9673 - val_loss: 0.2011 - val_accuracy: 0.9434\n",
            "Epoch 13/50\n",
            "26215/26215 [==============================] - 64s 2ms/step - loss: 0.1063 - accuracy: 0.9679 - val_loss: 0.1975 - val_accuracy: 0.9454\n",
            "Epoch 14/50\n",
            "26215/26215 [==============================] - 64s 2ms/step - loss: 0.1047 - accuracy: 0.9687 - val_loss: 0.2083 - val_accuracy: 0.9484\n",
            "Epoch 15/50\n",
            "26215/26215 [==============================] - 64s 2ms/step - loss: 0.1023 - accuracy: 0.9696 - val_loss: 0.1977 - val_accuracy: 0.9458\n",
            "Epoch 16/50\n",
            "26215/26215 [==============================] - 64s 2ms/step - loss: 0.1006 - accuracy: 0.9701 - val_loss: 0.2063 - val_accuracy: 0.9458\n",
            "Epoch 17/50\n",
            "26215/26215 [==============================] - 66s 3ms/step - loss: 0.0976 - accuracy: 0.9712 - val_loss: 0.2292 - val_accuracy: 0.9393\n",
            "Epoch 18/50\n",
            "26215/26215 [==============================] - 66s 3ms/step - loss: 0.0953 - accuracy: 0.9720 - val_loss: 0.2209 - val_accuracy: 0.9477\n",
            "Epoch 19/50\n",
            "26215/26215 [==============================] - 65s 2ms/step - loss: 0.0941 - accuracy: 0.9723 - val_loss: 0.2108 - val_accuracy: 0.9443\n",
            "Epoch 20/50\n",
            "26215/26215 [==============================] - 65s 2ms/step - loss: 0.0917 - accuracy: 0.9734 - val_loss: 0.2177 - val_accuracy: 0.9463\n",
            "Epoch 21/50\n",
            "26215/26215 [==============================] - 65s 2ms/step - loss: 0.0902 - accuracy: 0.9735 - val_loss: 0.2497 - val_accuracy: 0.9463\n",
            "Epoch 22/50\n",
            "26215/26215 [==============================] - 64s 2ms/step - loss: 0.0887 - accuracy: 0.9743 - val_loss: 0.2314 - val_accuracy: 0.9432\n",
            "Epoch 23/50\n",
            "26215/26215 [==============================] - 65s 2ms/step - loss: 0.0868 - accuracy: 0.9744 - val_loss: 0.2373 - val_accuracy: 0.9422\n",
            "Epoch 24/50\n",
            "26215/26215 [==============================] - 63s 2ms/step - loss: 0.0859 - accuracy: 0.9758 - val_loss: 0.2332 - val_accuracy: 0.9435\n",
            "Epoch 25/50\n",
            "26215/26215 [==============================] - 63s 2ms/step - loss: 0.0839 - accuracy: 0.9758 - val_loss: 0.2410 - val_accuracy: 0.9445\n",
            "Epoch 26/50\n",
            "26215/26215 [==============================] - 64s 2ms/step - loss: 0.0827 - accuracy: 0.9767 - val_loss: 0.2389 - val_accuracy: 0.9437\n",
            "Epoch 27/50\n",
            "26215/26215 [==============================] - 64s 2ms/step - loss: 0.0817 - accuracy: 0.9772 - val_loss: 0.2584 - val_accuracy: 0.9469\n",
            "Epoch 28/50\n",
            "26215/26215 [==============================] - 65s 2ms/step - loss: 0.0810 - accuracy: 0.9773 - val_loss: 0.2381 - val_accuracy: 0.9437\n",
            "Epoch 29/50\n",
            "26215/26215 [==============================] - 63s 2ms/step - loss: 0.0799 - accuracy: 0.9778 - val_loss: 0.2534 - val_accuracy: 0.9437\n",
            "Epoch 30/50\n",
            "26215/26215 [==============================] - 64s 2ms/step - loss: 0.0789 - accuracy: 0.9781 - val_loss: 0.2611 - val_accuracy: 0.9403\n",
            "Epoch 31/50\n",
            "26215/26215 [==============================] - 65s 2ms/step - loss: 0.0779 - accuracy: 0.9786 - val_loss: 0.2520 - val_accuracy: 0.9435\n",
            "Epoch 32/50\n",
            "26215/26215 [==============================] - 64s 2ms/step - loss: 0.0771 - accuracy: 0.9786 - val_loss: 0.2622 - val_accuracy: 0.9451\n",
            "Epoch 33/50\n",
            "26215/26215 [==============================] - 66s 3ms/step - loss: 0.0774 - accuracy: 0.9789 - val_loss: 0.2999 - val_accuracy: 0.9347\n",
            "Epoch 34/50\n",
            "26215/26215 [==============================] - 65s 2ms/step - loss: 0.0763 - accuracy: 0.9788 - val_loss: 0.2616 - val_accuracy: 0.9437\n",
            "Epoch 35/50\n",
            "26215/26215 [==============================] - 64s 2ms/step - loss: 0.0765 - accuracy: 0.9790 - val_loss: 0.2630 - val_accuracy: 0.9423\n",
            "Epoch 36/50\n",
            "26215/26215 [==============================] - 67s 3ms/step - loss: 0.0753 - accuracy: 0.9788 - val_loss: 0.2726 - val_accuracy: 0.9449\n",
            "Epoch 37/50\n",
            "26215/26215 [==============================] - 63s 2ms/step - loss: 0.0750 - accuracy: 0.9794 - val_loss: 0.2748 - val_accuracy: 0.9416\n",
            "Epoch 38/50\n",
            "26215/26215 [==============================] - 65s 2ms/step - loss: 0.0755 - accuracy: 0.9794 - val_loss: 0.2765 - val_accuracy: 0.9460\n",
            "Epoch 39/50\n",
            "26215/26215 [==============================] - 65s 2ms/step - loss: 0.0750 - accuracy: 0.9793 - val_loss: 0.2800 - val_accuracy: 0.9448\n",
            "Epoch 40/50\n",
            "26215/26215 [==============================] - 65s 2ms/step - loss: 0.0743 - accuracy: 0.9792 - val_loss: 0.2616 - val_accuracy: 0.9439\n",
            "Epoch 41/50\n",
            "26215/26215 [==============================] - 65s 2ms/step - loss: 0.0734 - accuracy: 0.9797 - val_loss: 0.2735 - val_accuracy: 0.9417\n",
            "Epoch 42/50\n",
            "26215/26215 [==============================] - 65s 2ms/step - loss: 0.0727 - accuracy: 0.9795 - val_loss: 0.2970 - val_accuracy: 0.9468\n",
            "Epoch 43/50\n",
            "26215/26215 [==============================] - 66s 3ms/step - loss: 0.0738 - accuracy: 0.9796 - val_loss: 0.2752 - val_accuracy: 0.9451\n",
            "Epoch 44/50\n",
            "26215/26215 [==============================] - 65s 2ms/step - loss: 0.0733 - accuracy: 0.9800 - val_loss: 0.2827 - val_accuracy: 0.9434\n",
            "Epoch 45/50\n",
            "26215/26215 [==============================] - 66s 3ms/step - loss: 0.0728 - accuracy: 0.9798 - val_loss: 0.2768 - val_accuracy: 0.9455\n",
            "Epoch 46/50\n",
            "26215/26215 [==============================] - 68s 3ms/step - loss: 0.0726 - accuracy: 0.9802 - val_loss: 0.3069 - val_accuracy: 0.9367\n",
            "Epoch 47/50\n",
            "26215/26215 [==============================] - 65s 2ms/step - loss: 0.0728 - accuracy: 0.9801 - val_loss: 0.2812 - val_accuracy: 0.9457\n",
            "Epoch 48/50\n",
            "26215/26215 [==============================] - 64s 2ms/step - loss: 0.0722 - accuracy: 0.9801 - val_loss: 0.2821 - val_accuracy: 0.9469\n",
            "Epoch 49/50\n",
            "26215/26215 [==============================] - 65s 2ms/step - loss: 0.0721 - accuracy: 0.9803 - val_loss: 0.2975 - val_accuracy: 0.9458\n",
            "Epoch 50/50\n",
            "26215/26215 [==============================] - 65s 2ms/step - loss: 0.0715 - accuracy: 0.9807 - val_loss: 0.3086 - val_accuracy: 0.9468\n"
          ],
          "name": "stdout"
        }
      ]
    },
    {
      "cell_type": "code",
      "metadata": {
        "id": "VILgtqoab58H",
        "colab_type": "code",
        "outputId": "94dafdb9-3848-49a0-b2eb-761fa3f6e0ce",
        "colab": {
          "base_uri": "https://localhost:8080/"
        }
      },
      "source": [
        "# Accuracy of training dataset for neural network model \n",
        "\n",
        "scores = first_model.evaluate(X_train, y_train)\n",
        "print(\"\\n Accuracy of training dataset for DNN model: %s: %.2f%% \" % (first_model.metrics_names[1], scores[1]*100))"
      ],
      "execution_count": 0,
      "outputs": [
        {
          "output_type": "stream",
          "text": [
            "820/820 [==============================] - 1s 1ms/step - loss: 0.0799 - accuracy: 0.9801\n",
            "\n",
            " Accuracy of training dataset for DNN model: accuracy: 98.01% \n"
          ],
          "name": "stdout"
        }
      ]
    },
    {
      "cell_type": "code",
      "metadata": {
        "id": "QVSgQz_Ddjk6",
        "colab_type": "code",
        "outputId": "c0cbb002-6056-4d0e-f013-7ae37dcf1001",
        "colab": {
          "base_uri": "https://localhost:8080/"
        }
      },
      "source": [
        "# Accuracy of validation dataset for neural network model \n",
        "\n",
        "scores=first_model.evaluate(X_val, y_val)\n",
        "print(\"\\n Accuracy of validation dataset for DNN model: %s: %.2f%% \" % (first_model.metrics_names[1], scores[1]*100))"
      ],
      "execution_count": 0,
      "outputs": [
        {
          "output_type": "stream",
          "text": [
            "205/205 [==============================] - 0s 1ms/step - loss: 0.3086 - accuracy: 0.9468\n",
            "\n",
            " Accuracy of validation dataset for DNN model: accuracy: 94.68% \n"
          ],
          "name": "stdout"
        }
      ]
    },
    {
      "cell_type": "code",
      "metadata": {
        "id": "1DY0Vo-MfLrs",
        "colab_type": "code",
        "outputId": "145aa48e-0dbb-4283-b9f4-b36df2a1f26d",
        "colab": {
          "base_uri": "https://localhost:8080/"
        }
      },
      "source": [
        "# Plotting graph of DNN model for loss\n",
        "\n",
        "plt.figure(figsize=(6,5))\n",
        "plt.plot(f1_history.history['accuracy'])\n",
        "plt.plot(f1_history.history['val_accuracy'])\n",
        "plt.title('DNN Model Accuracy')\n",
        "plt.ylabel('Accuracy')\n",
        "plt.xlabel('epoch')\n",
        "plt.ylim([0,1])\n",
        "\n",
        "plt.legend(['Training', 'Validation'], loc='lower left')\n",
        "plt.show()\n",
        "\n",
        "# Plotting graph of DNN model for loss\n",
        "\n",
        "plt.figure(figsize=(6,5))\n",
        "plt.plot(f1_history.history['loss'])\n",
        "plt.plot(f1_history.history['val_loss'])\n",
        "plt.title('DNN Model Loss')\n",
        "plt.ylabel('Loss')\n",
        "plt.xlabel('epoch')\n",
        "plt.ylim([0,1])\n",
        "\n",
        "plt.legend(['Training', 'Validation'], loc='upper left')\n",
        "plt.show()"
      ],
      "execution_count": 0,
      "outputs": [
        {
          "output_type": "display_data",
          "data": {
            "image/png": "[encoded data removed]",
            "text/plain": [
              "<Figure size 432x360 with 1 Axes>"
            ]
          },
          "metadata": {
            "tags": [],
            "needs_background": "light"
          }
        },
        {
          "output_type": "display_data",
          "data": {
            "image/png": "[encoded data removed]",
            "text/plain": [
              "<Figure size 432x360 with 1 Axes>"
            ]
          },
          "metadata": {
            "tags": [],
            "needs_background": "light"
          }
        }
      ]
    },
    {
      "cell_type": "code",
      "metadata": {
        "id": "9PX95pBSskIu",
        "colab_type": "code",
        "colab": {}
      },
      "source": [
        "# DNN model Prediction\n",
        "\n",
        "y_test = first_model.predict(X_test)"
      ],
      "execution_count": 0,
      "outputs": []
    },
    {
      "cell_type": "code",
      "metadata": {
        "id": "x7hD3wdVtVqN",
        "colab_type": "code",
        "outputId": "ff406431-4a6c-41bf-af80-8ea476f6f825",
        "colab": {
          "base_uri": "https://localhost:8080/"
        }
      },
      "source": [
        "#saving predictions in dataframe\n",
        "\n",
        "y_test_predictions = pd.DataFrame()\n",
        "y_test_predictions[\"id\"] = test_dataframe[\"id\"]\n",
        "y_test_predictions[\"ACTION\"] = y_test\n",
        "print(y_test_predictions)\n",
        "\n",
        "#Saving results to csv file\n",
        "y_test_predictions.to_csv(\"submission.csv\", index = False)"
      ],
      "execution_count": 0,
      "outputs": [
        {
          "output_type": "stream",
          "text": [
            "          id    ACTION\n",
            "12897  12898  0.997999\n",
            "24407  24408  0.973148\n",
            "49218  49219  0.982515\n",
            "57192  57193  0.999929\n",
            "7334    7335  0.999967\n",
            "...      ...       ...\n",
            "16782  16783  0.999277\n",
            "35294  35295  0.995736\n",
            "17732  17733  0.999848\n",
            "18117  18118  0.999980\n",
            "4609    4610  0.999993\n",
            "\n",
            "[58921 rows x 2 columns]\n"
          ],
          "name": "stdout"
        }
      ]
    },
    {
      "cell_type": "code",
      "metadata": {
        "id": "-3s7mlIdfeiX",
        "colab_type": "code",
        "outputId": "853c793e-a581-4a9a-eb1b-89d1aa3bd039",
        "colab": {
          "base_uri": "https://localhost:8080/"
        }
      },
      "source": [
        "# Plot Weights for DNN model\n",
        "\n",
        "nfw = first_model.get_weights()[0][0]\n",
        "y_pos = np.arange(len(nfw))\n",
        " \n",
        "plt.bar(y_pos, nfw, align='center', alpha=0.5)"
      ],
      "execution_count": 0,
      "outputs": [
        {
          "output_type": "execute_result",
          "data": {
            "text/plain": [
              "<BarContainer object of 32 artists>"
            ]
          },
          "metadata": {
            "tags": []
          },
          "execution_count": 130
        },
        {
          "output_type": "display_data",
          "data": {
            "image/png": "[encoded data removed]",
            "text/plain": [
              "<Figure size 432x288 with 1 Axes>"
            ]
          },
          "metadata": {
            "tags": [],
            "needs_background": "light"
          }
        }
      ]
    },
    {
      "cell_type": "markdown",
      "metadata": {
        "colab_type": "text",
        "id": "Fbce5RzanIS4"
      },
      "source": [
        "\n",
        "\n",
        "\n",
        "\n",
        "\n",
        "\n",
        "\n",
        "\n",
        "### **d. Model 5 - Dense Neural Network Model-L1 (DNN-L1)**\n",
        "\n",
        "\n",
        "\n",
        "\n",
        "\n"
      ]
    },
    {
      "cell_type": "code",
      "metadata": {
        "colab_type": "code",
        "id": "pEmWP_CcnIS9",
        "colab": {}
      },
      "source": [
        "#Building L1 model for binary classification \n",
        "\n",
        "l1_model = keras.Sequential([\n",
        "    keras.layers.Dense(60, activation=tf.nn.relu,\n",
        "                       kernel_regularizer=keras.regularizers.l2(0.1),\n",
        "                        input_shape=(X_train.shape[1],)),\n",
        "    keras.layers.Dropout(0.25),\n",
        "    keras.layers.Dense(60, activation=tf.nn.relu,\n",
        "                       kernel_regularizer=keras.regularizers.l2(0.1),\n",
        "                        input_shape=(X_train.shape[1],)),\n",
        "    keras.layers.Dropout(0.25),\n",
        "    keras.layers.Dense(60, activation=tf.nn.relu,\n",
        "                       kernel_regularizer=keras.regularizers.l2(0.1),\n",
        "                        input_shape=(X_train.shape[1],)),\n",
        "    keras.layers.Dropout(0.25),\n",
        "    keras.layers.Dense(32,activation=tf.nn.relu,\n",
        "                       kernel_regularizer=keras.regularizers.l2(0.1),\n",
        "                      ),\n",
        "    keras.layers.Dense(16,activation=tf.nn.relu,\n",
        "                       kernel_regularizer=keras.regularizers.l2(0.1),\n",
        "                      ),\n",
        "    keras.layers.Dense(1, activation= \"sigmoid\")\n",
        "  ])\n",
        "\n",
        "\n",
        "l1_model.compile(loss='binary_crossentropy', # mean squared error\n",
        "                optimizer='adam',\n",
        "                metrics=['accuracy'])  #mean absolute error\n",
        "                \n",
        "# no. of neurons in hidden layer=input+output/2 or 2/3 Input +output or 2 times input\n",
        "# relu has to do with optimisation, easier to compute gradients"
      ],
      "execution_count": 0,
      "outputs": []
    },
    {
      "cell_type": "code",
      "metadata": {
        "id": "jVYERE45oL-1",
        "colab_type": "code",
        "outputId": "1c7bedf7-84ad-46c0-d6fa-e87d608c45ab",
        "colab": {
          "base_uri": "https://localhost:8080/"
        }
      },
      "source": [
        "\n",
        "class PrintDot(keras.callbacks.Callback): # prints dot at the end of every epoch\n",
        "  def on_epoch_end(self, epoch, logs):\n",
        "    if epoch % 100 == 0: print('')\n",
        "    print('.', end='')\n",
        "\n",
        "# Store training stats\n",
        "\n",
        "l1_history = l1_model.fit(X_train, y_train, epochs=50,\n",
        "                    validation_data= (X_val, y_val), verbose=0,\n",
        "                    callbacks=[PrintDot()])"
      ],
      "execution_count": 0,
      "outputs": [
        {
          "output_type": "stream",
          "text": [
            "\n",
            ".................................................."
          ],
          "name": "stdout"
        }
      ]
    },
    {
      "cell_type": "code",
      "metadata": {
        "colab_type": "code",
        "outputId": "f83f2881-4802-4da9-f6ee-2f0c93347f82",
        "id": "__yJ5x7inITB",
        "colab": {
          "base_uri": "https://localhost:8080/"
        }
      },
      "source": [
        "l1_model.summary()"
      ],
      "execution_count": 0,
      "outputs": [
        {
          "output_type": "stream",
          "text": [
            "Model: \"sequential_2\"\n",
            "_________________________________________________________________\n",
            "Layer (type)                 Output Shape              Param #   \n",
            "=================================================================\n",
            "dense_6 (Dense)              (None, 60)                937620    \n",
            "_________________________________________________________________\n",
            "dropout_3 (Dropout)          (None, 60)                0         \n",
            "_________________________________________________________________\n",
            "dense_7 (Dense)              (None, 60)                3660      \n",
            "_________________________________________________________________\n",
            "dropout_4 (Dropout)          (None, 60)                0         \n",
            "_________________________________________________________________\n",
            "dense_8 (Dense)              (None, 60)                3660      \n",
            "_________________________________________________________________\n",
            "dropout_5 (Dropout)          (None, 60)                0         \n",
            "_________________________________________________________________\n",
            "dense_9 (Dense)              (None, 32)                1952      \n",
            "_________________________________________________________________\n",
            "dense_10 (Dense)             (None, 16)                528       \n",
            "_________________________________________________________________\n",
            "dense_11 (Dense)             (None, 1)                 17        \n",
            "=================================================================\n",
            "Total params: 947,437\n",
            "Trainable params: 947,437\n",
            "Non-trainable params: 0\n",
            "_________________________________________________________________\n"
          ],
          "name": "stdout"
        }
      ]
    },
    {
      "cell_type": "code",
      "metadata": {
        "id": "PJD0wTxlrHd5",
        "colab_type": "code",
        "outputId": "910b6d7c-8c3c-4ccc-f7f8-838eeb9a3d85",
        "colab": {
          "base_uri": "https://localhost:8080/"
        }
      },
      "source": [
        "# Accuracy of training dataset for neural network model \n",
        "\n",
        "scores = l1_model.evaluate(X_train, y_train)\n",
        "print(\"\\n Accuracy of training dataset for DNN L1 model: %s: %.2f%% \" % (l1_model.metrics_names[1], scores[1]*100))"
      ],
      "execution_count": 0,
      "outputs": [
        {
          "output_type": "stream",
          "text": [
            "820/820 [==============================] - 2s 2ms/step - loss: 0.2210 - accuracy: 0.9423\n",
            "\n",
            " Accuracy of training dataset for DNN L1 model: accuracy: 94.23% \n"
          ],
          "name": "stdout"
        }
      ]
    },
    {
      "cell_type": "code",
      "metadata": {
        "id": "zyRwmBTYrLMO",
        "colab_type": "code",
        "outputId": "036ea27f-f5f2-4a89-ebb7-35b8ba3ad40a",
        "colab": {
          "base_uri": "https://localhost:8080/"
        }
      },
      "source": [
        "# Accuracy of validation dataset for neural network model \n",
        "\n",
        "scores = l1_model.evaluate(X_val, y_val)\n",
        "print(\"\\n Accuracy of validation dataset for DNN L1 model: %s: %.2f%% \" % (l1_model.metrics_names[1], scores[1]*100))"
      ],
      "execution_count": 0,
      "outputs": [
        {
          "output_type": "stream",
          "text": [
            "205/205 [==============================] - 0s 2ms/step - loss: 0.2238 - accuracy: 0.9413\n",
            "\n",
            " Accuracy of validation dataset for DNN L1 model: accuracy: 94.13% \n"
          ],
          "name": "stdout"
        }
      ]
    },
    {
      "cell_type": "code",
      "metadata": {
        "id": "DMvJcI7A7xP7",
        "colab_type": "code",
        "outputId": "e70bcfe8-629e-43f0-9f65-4d30ef3b9df5",
        "colab": {
          "base_uri": "https://localhost:8080/"
        }
      },
      "source": [
        "from matplotlib import pyplot\n",
        "\n",
        "# summarize the performance of the fit model\n",
        "def summarize_model(model, history, trainX, trainy, testX, testy):\n",
        "\t\n",
        "  # evaluate the model\n",
        "  _, train_acc = l1_model.evaluate(trainX, trainy, verbose=0)\n",
        "  _, test_acc = l1_model.evaluate(testX, testy, verbose=0)\n",
        "\n",
        "  # plot loss during training\n",
        "  pyplot.subplot(211)\n",
        "  pyplot.title('Loss')\n",
        "  pyplot.plot(history.history['loss'], label='train')\n",
        "  pyplot.plot(history.history['val_loss'], label='test')\n",
        "  pyplot.xlabel('Epochs')\n",
        "  pyplot.ylabel('Loss')\n",
        "  pyplot.legend()\n",
        "  pyplot.show()\n",
        "\n",
        "  # plot accuracy during training\n",
        "  pyplot.subplot(212)\n",
        "  pyplot.title('Accuracy')\n",
        "  pyplot.plot(history.history['accuracy'], label='train')\n",
        "  pyplot.plot(history.history['val_accuracy'], label='test')\n",
        "  pyplot.xlabel('Epochs')\n",
        "  pyplot.ylabel('Accuracy')\n",
        "  pyplot.legend()\n",
        "  pyplot.show()\n",
        " \n",
        "# evaluate model behavior\n",
        "summarize_model(l1_model, l1_history, X_train, y_train, X_val, y_val)"
      ],
      "execution_count": 0,
      "outputs": [
        {
          "output_type": "display_data",
          "data": {
            "image/png": "[encoded data removed]",
            "text/plain": [
              "<Figure size 432x288 with 1 Axes>"
            ]
          },
          "metadata": {
            "tags": [],
            "needs_background": "light"
          }
        },
        {
          "output_type": "display_data",
          "data": {
            "image/png": "[encoded data removed]",
            "text/plain": [
              "<Figure size 432x288 with 1 Axes>"
            ]
          },
          "metadata": {
            "tags": [],
            "needs_background": "light"
          }
        }
      ]
    },
    {
      "cell_type": "code",
      "metadata": {
        "id": "hWOw9fF5pCmI",
        "colab_type": "code",
        "colab": {
          "base_uri": "https://localhost:8080/",
          "height": 294
        },
        "outputId": "4f01a0dd-5751-4f59-ce4d-e73824d5a1a4"
      },
      "source": [
        "# Plot Weights for DNN L1 model\n",
        "\n",
        "nfw = l1_model.get_weights()[0][0]\n",
        "y_pos = np.arange(len(nfw))\n",
        " \n",
        "plt.bar(y_pos, nfw, align='center', alpha=0.5)"
      ],
      "execution_count": 207,
      "outputs": [
        {
          "output_type": "execute_result",
          "data": {
            "text/plain": [
              "<BarContainer object of 60 artists>"
            ]
          },
          "metadata": {
            "tags": []
          },
          "execution_count": 207
        },
        {
          "output_type": "display_data",
          "data": {
            "image/png": "[encoded data removed]",
            "text/plain": [
              "<Figure size 432x288 with 1 Axes>"
            ]
          },
          "metadata": {
            "tags": [],
            "needs_background": "light"
          }
        }
      ]
    },
    {
      "cell_type": "code",
      "metadata": {
        "id": "XAgsBPm6ry6u",
        "colab_type": "code",
        "colab": {}
      },
      "source": [
        "# DNN model Prediction\n",
        "\n",
        "y_test = l1_model.predict(X_test)"
      ],
      "execution_count": 0,
      "outputs": []
    },
    {
      "cell_type": "code",
      "metadata": {
        "id": "kfkQU6QorbTq",
        "colab_type": "code",
        "colab": {}
      },
      "source": [
        "#saving predictions in dataframe\n",
        "\n",
        "y_test_predictions = pd.DataFrame()\n",
        "y_test_predictions[\"id\"] = test_dataframe[\"id\"]\n",
        "y_test_predictions[\"ACTION\"] = y_test\n",
        "\n",
        "#Saving results to csv file\n",
        "y_test_predictions.to_csv(\"submission.csv\", index = False)"
      ],
      "execution_count": 0,
      "outputs": []
    },
    {
      "cell_type": "code",
      "metadata": {
        "id": "afALLwPO6MBo",
        "colab_type": "code",
        "colab": {
          "base_uri": "https://localhost:8080/",
          "height": 266
        },
        "outputId": "12d0d250-5a7d-43fe-f571-c91690b6e9e5"
      },
      "source": [
        "print(y_test_predictions)"
      ],
      "execution_count": 270,
      "outputs": [
        {
          "output_type": "stream",
          "text": [
            "          id    ACTION\n",
            "0      45592  0.999930\n",
            "1      14790  0.968755\n",
            "2      19059  0.993935\n",
            "3      53316  0.999896\n",
            "4       9752  0.990839\n",
            "...      ...       ...\n",
            "58916   3769  0.985596\n",
            "58917  30902  0.998993\n",
            "58918  25649  0.999950\n",
            "58919  25141  0.987947\n",
            "58920   8611  0.997783\n",
            "\n",
            "[58921 rows x 2 columns]\n"
          ],
          "name": "stdout"
        }
      ]
    },
    {
      "cell_type": "code",
      "metadata": {
        "id": "6BvT-MA96c5I",
        "colab_type": "code",
        "colab": {}
      },
      "source": [
        "#Converting probabilities in to target values \n",
        "\n",
        "y_test_predictions.loc[y_test_predictions['ACTION'] > 0.5] = 1\n",
        "y_test_predictions.loc[y_test_predictions['ACTION'] <= 0.5] = 0"
      ],
      "execution_count": 0,
      "outputs": []
    },
    {
      "cell_type": "code",
      "metadata": {
        "id": "JkqyCvK36q_p",
        "colab_type": "code",
        "colab": {
          "base_uri": "https://localhost:8080/",
          "height": 354
        },
        "outputId": "05544679-d3ac-4367-e7fe-b6d44b60a7e6"
      },
      "source": [
        "# Target value count graph\n",
        "\n",
        "print(y_test_predictions['ACTION'].value_counts())\n",
        "sns.countplot(x='ACTION',data = y_test_predictions, palette='hls')\n",
        "plt.show() \n",
        "plt.savefig('count_plot')"
      ],
      "execution_count": 284,
      "outputs": [
        {
          "output_type": "stream",
          "text": [
            "1.0    57211\n",
            "0.0     1710\n",
            "Name: ACTION, dtype: int64\n"
          ],
          "name": "stdout"
        },
        {
          "output_type": "display_data",
          "data": {
            "image/png": "[encoded data removed]",
            "text/plain": [
              "<Figure size 432x288 with 1 Axes>"
            ]
          },
          "metadata": {
            "tags": [],
            "needs_background": "light"
          }
        },
        {
          "output_type": "display_data",
          "data": {
            "text/plain": [
              "<Figure size 432x288 with 0 Axes>"
            ]
          },
          "metadata": {
            "tags": []
          }
        }
      ]
    },
    {
      "cell_type": "code",
      "metadata": {
        "id": "oDKgR26w7Pxl",
        "colab_type": "code",
        "colab": {
          "base_uri": "https://localhost:8080/",
          "height": 264
        },
        "outputId": "be854da0-8e1d-49b0-b9bb-1c9abb9fcc5b"
      },
      "source": [
        "# Pie chart for counts of ACTION target variable for test dataframe\n",
        "\n",
        "count_Class.plot(kind = 'pie',  autopct='%1.0f%%')\n",
        "plt.title('Pie chart of count of ACTION variable')\n",
        "plt.ylabel('')\n",
        "plt.show()"
      ],
      "execution_count": 280,
      "outputs": [
        {
          "output_type": "display_data",
          "data": {
            "image/png": "[encoded data removed]",
            "text/plain": [
              "<Figure size 432x288 with 1 Axes>"
            ]
          },
          "metadata": {
            "tags": []
          }
        }
      ]
    },
    {
      "cell_type": "markdown",
      "metadata": {
        "id": "KM4kSKcOt0it",
        "colab_type": "text"
      },
      "source": [
        "## **4. Model Comparison and Conclusion**\n"
      ]
    },
    {
      "cell_type": "code",
      "metadata": {
        "id": "y1HYaQemiuBH",
        "colab_type": "code",
        "colab": {
          "base_uri": "https://localhost:8080/",
          "height": 348
        },
        "outputId": "7a1ce2cb-2d6d-4768-93fe-cdc779ba4ae2"
      },
      "source": [
        "# Plotting accuracies of all models in a box plot\n",
        "\n",
        "Accuracy_of_allModels = {'LR': [96.03, 94.74], 'SGD': [94.93, 94.31], 'SVM': [95.76, 94.54], 'DNN': [98.01, 94.68], 'DNN - L1': [94.23, 94.13]}\n",
        "df = pd.DataFrame(data=Accuracy_of_allModels)\n",
        "sns.boxplot(data=df).set(title = 'Model Comparison', xlabel = 'Models', ylabel = 'Accuracy' )"
      ],
      "execution_count": 212,
      "outputs": [
        {
          "output_type": "execute_result",
          "data": {
            "text/plain": [
              "[Text(0, 0.5, 'Accuracy'),\n",
              " Text(0.5, 0, 'Models'),\n",
              " Text(0.5, 1.0, 'Model Comparison')]"
            ]
          },
          "metadata": {
            "tags": []
          },
          "execution_count": 212
        },
        {
          "output_type": "display_data",
          "data": {
            "image/png": "[encoded data removed]",
            "text/plain": [
              "<Figure size 432x288 with 1 Axes>"
            ]
          },
          "metadata": {
            "tags": [],
            "needs_background": "light"
          }
        }
      ]
    },
    {
      "cell_type": "markdown",
      "metadata": {
        "id": "sBUw6BMxpzDF",
        "colab_type": "text"
      },
      "source": [
        "\n",
        "\n",
        "*   From above models, we can see that we have accuracies in between 94.13 to 98.01. But the generalization error gap is extremely less for Dense neural network L1 model, whereas its greater for Dense neural network model. \n",
        "*   This proves that with using regularization techniques we can improve the generalization gap as well as we can get comparatively good accuracy as well. Hence, we are getting better predictions and accuracy with DNN L1 model.\n",
        "Best model is: DNN L1 with validation accuracy: 94.13%\n"
      ]
    }
  ]
}